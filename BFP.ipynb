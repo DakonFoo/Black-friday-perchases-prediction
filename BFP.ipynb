{
  "cells": [
    {
      "cell_type": "code",
      "execution_count": null,
      "metadata": {
        "id": "cJjCxAoTas9G"
      },
      "outputs": [],
      "source": [
        "import pandas as pd\n",
        "import matplotlib.pyplot as plt\n",
        "import seaborn as sns\n",
        "import numpy as np\n",
        "sns.set_style('darkgrid')"
      ]
    },
    {
      "cell_type": "code",
      "execution_count": null,
      "metadata": {
        "id": "PY6MB_3UTvf1"
      },
      "outputs": [],
      "source": [
        "train_data = pd.read_csv('train.csv')\n",
        "test_data=pd.read_csv('test.csv')"
      ]
    },
    {
      "cell_type": "code",
      "execution_count": null,
      "metadata": {
        "id": "9j2qU20WcmVu",
        "colab": {
          "base_uri": "https://localhost:8080/"
        },
        "outputId": "44d02bf2-0193-4281-ab6e-ae3b02b2d7d1"
      },
      "outputs": [
        {
          "output_type": "stream",
          "name": "stderr",
          "text": [
            "<ipython-input-3-4797145a0bb7>:1: FutureWarning: The frame.append method is deprecated and will be removed from pandas in a future version. Use pandas.concat instead.\n",
            "  data = train_data.append(test_data)\n"
          ]
        }
      ],
      "source": [
        "data = train_data.append(test_data)"
      ]
    },
    {
      "cell_type": "code",
      "execution_count": null,
      "metadata": {
        "id": "yXmhfqAbdNAk",
        "colab": {
          "base_uri": "https://localhost:8080/"
        },
        "outputId": "5789082a-b62d-4c78-ac75-e7bbc2380afb"
      },
      "outputs": [
        {
          "output_type": "execute_result",
          "data": {
            "text/plain": [
              "(783667, 12)"
            ]
          },
          "metadata": {},
          "execution_count": 4
        }
      ],
      "source": [
        "data.shape"
      ]
    },
    {
      "cell_type": "code",
      "execution_count": null,
      "metadata": {
        "id": "NYljbSkfdrvL"
      },
      "outputs": [],
      "source": [
        "data.drop(['User_ID'], axis = 1, inplace = True)"
      ]
    },
    {
      "cell_type": "code",
      "execution_count": null,
      "metadata": {
        "id": "IIGZj7_agHeA",
        "colab": {
          "base_uri": "https://localhost:8080/",
          "height": 206
        },
        "outputId": "3e4ade09-cf68-45f5-b367-2f715c9cc041"
      },
      "outputs": [
        {
          "output_type": "execute_result",
          "data": {
            "text/plain": [
              "  Product_ID Gender   Age  Occupation City_Category  \\\n",
              "0  P00069042      F  0-17          10             A   \n",
              "1  P00248942      F  0-17          10             A   \n",
              "2  P00087842      F  0-17          10             A   \n",
              "3  P00085442      F  0-17          10             A   \n",
              "4  P00285442      M   55+          16             C   \n",
              "\n",
              "  Stay_In_Current_City_Years  Marital_Status  Product_Category_1  \\\n",
              "0                          2               0                   3   \n",
              "1                          2               0                   1   \n",
              "2                          2               0                  12   \n",
              "3                          2               0                  12   \n",
              "4                         4+               0                   8   \n",
              "\n",
              "   Product_Category_2  Product_Category_3  Purchase  \n",
              "0                 NaN                 NaN    8370.0  \n",
              "1                 6.0                14.0   15200.0  \n",
              "2                 NaN                 NaN    1422.0  \n",
              "3                14.0                 NaN    1057.0  \n",
              "4                 NaN                 NaN    7969.0  "
            ],
            "text/html": [
              "\n",
              "  <div id=\"df-60d12986-2735-44be-af81-e1d2db083cd5\" class=\"colab-df-container\">\n",
              "    <div>\n",
              "<style scoped>\n",
              "    .dataframe tbody tr th:only-of-type {\n",
              "        vertical-align: middle;\n",
              "    }\n",
              "\n",
              "    .dataframe tbody tr th {\n",
              "        vertical-align: top;\n",
              "    }\n",
              "\n",
              "    .dataframe thead th {\n",
              "        text-align: right;\n",
              "    }\n",
              "</style>\n",
              "<table border=\"1\" class=\"dataframe\">\n",
              "  <thead>\n",
              "    <tr style=\"text-align: right;\">\n",
              "      <th></th>\n",
              "      <th>Product_ID</th>\n",
              "      <th>Gender</th>\n",
              "      <th>Age</th>\n",
              "      <th>Occupation</th>\n",
              "      <th>City_Category</th>\n",
              "      <th>Stay_In_Current_City_Years</th>\n",
              "      <th>Marital_Status</th>\n",
              "      <th>Product_Category_1</th>\n",
              "      <th>Product_Category_2</th>\n",
              "      <th>Product_Category_3</th>\n",
              "      <th>Purchase</th>\n",
              "    </tr>\n",
              "  </thead>\n",
              "  <tbody>\n",
              "    <tr>\n",
              "      <th>0</th>\n",
              "      <td>P00069042</td>\n",
              "      <td>F</td>\n",
              "      <td>0-17</td>\n",
              "      <td>10</td>\n",
              "      <td>A</td>\n",
              "      <td>2</td>\n",
              "      <td>0</td>\n",
              "      <td>3</td>\n",
              "      <td>NaN</td>\n",
              "      <td>NaN</td>\n",
              "      <td>8370.0</td>\n",
              "    </tr>\n",
              "    <tr>\n",
              "      <th>1</th>\n",
              "      <td>P00248942</td>\n",
              "      <td>F</td>\n",
              "      <td>0-17</td>\n",
              "      <td>10</td>\n",
              "      <td>A</td>\n",
              "      <td>2</td>\n",
              "      <td>0</td>\n",
              "      <td>1</td>\n",
              "      <td>6.0</td>\n",
              "      <td>14.0</td>\n",
              "      <td>15200.0</td>\n",
              "    </tr>\n",
              "    <tr>\n",
              "      <th>2</th>\n",
              "      <td>P00087842</td>\n",
              "      <td>F</td>\n",
              "      <td>0-17</td>\n",
              "      <td>10</td>\n",
              "      <td>A</td>\n",
              "      <td>2</td>\n",
              "      <td>0</td>\n",
              "      <td>12</td>\n",
              "      <td>NaN</td>\n",
              "      <td>NaN</td>\n",
              "      <td>1422.0</td>\n",
              "    </tr>\n",
              "    <tr>\n",
              "      <th>3</th>\n",
              "      <td>P00085442</td>\n",
              "      <td>F</td>\n",
              "      <td>0-17</td>\n",
              "      <td>10</td>\n",
              "      <td>A</td>\n",
              "      <td>2</td>\n",
              "      <td>0</td>\n",
              "      <td>12</td>\n",
              "      <td>14.0</td>\n",
              "      <td>NaN</td>\n",
              "      <td>1057.0</td>\n",
              "    </tr>\n",
              "    <tr>\n",
              "      <th>4</th>\n",
              "      <td>P00285442</td>\n",
              "      <td>M</td>\n",
              "      <td>55+</td>\n",
              "      <td>16</td>\n",
              "      <td>C</td>\n",
              "      <td>4+</td>\n",
              "      <td>0</td>\n",
              "      <td>8</td>\n",
              "      <td>NaN</td>\n",
              "      <td>NaN</td>\n",
              "      <td>7969.0</td>\n",
              "    </tr>\n",
              "  </tbody>\n",
              "</table>\n",
              "</div>\n",
              "    <div class=\"colab-df-buttons\">\n",
              "\n",
              "  <div class=\"colab-df-container\">\n",
              "    <button class=\"colab-df-convert\" onclick=\"convertToInteractive('df-60d12986-2735-44be-af81-e1d2db083cd5')\"\n",
              "            title=\"Convert this dataframe to an interactive table.\"\n",
              "            style=\"display:none;\">\n",
              "\n",
              "  <svg xmlns=\"http://www.w3.org/2000/svg\" height=\"24px\" viewBox=\"0 -960 960 960\">\n",
              "    <path d=\"M120-120v-720h720v720H120Zm60-500h600v-160H180v160Zm220 220h160v-160H400v160Zm0 220h160v-160H400v160ZM180-400h160v-160H180v160Zm440 0h160v-160H620v160ZM180-180h160v-160H180v160Zm440 0h160v-160H620v160Z\"/>\n",
              "  </svg>\n",
              "    </button>\n",
              "\n",
              "  <style>\n",
              "    .colab-df-container {\n",
              "      display:flex;\n",
              "      gap: 12px;\n",
              "    }\n",
              "\n",
              "    .colab-df-convert {\n",
              "      background-color: #E8F0FE;\n",
              "      border: none;\n",
              "      border-radius: 50%;\n",
              "      cursor: pointer;\n",
              "      display: none;\n",
              "      fill: #1967D2;\n",
              "      height: 32px;\n",
              "      padding: 0 0 0 0;\n",
              "      width: 32px;\n",
              "    }\n",
              "\n",
              "    .colab-df-convert:hover {\n",
              "      background-color: #E2EBFA;\n",
              "      box-shadow: 0px 1px 2px rgba(60, 64, 67, 0.3), 0px 1px 3px 1px rgba(60, 64, 67, 0.15);\n",
              "      fill: #174EA6;\n",
              "    }\n",
              "\n",
              "    .colab-df-buttons div {\n",
              "      margin-bottom: 4px;\n",
              "    }\n",
              "\n",
              "    [theme=dark] .colab-df-convert {\n",
              "      background-color: #3B4455;\n",
              "      fill: #D2E3FC;\n",
              "    }\n",
              "\n",
              "    [theme=dark] .colab-df-convert:hover {\n",
              "      background-color: #434B5C;\n",
              "      box-shadow: 0px 1px 3px 1px rgba(0, 0, 0, 0.15);\n",
              "      filter: drop-shadow(0px 1px 2px rgba(0, 0, 0, 0.3));\n",
              "      fill: #FFFFFF;\n",
              "    }\n",
              "  </style>\n",
              "\n",
              "    <script>\n",
              "      const buttonEl =\n",
              "        document.querySelector('#df-60d12986-2735-44be-af81-e1d2db083cd5 button.colab-df-convert');\n",
              "      buttonEl.style.display =\n",
              "        google.colab.kernel.accessAllowed ? 'block' : 'none';\n",
              "\n",
              "      async function convertToInteractive(key) {\n",
              "        const element = document.querySelector('#df-60d12986-2735-44be-af81-e1d2db083cd5');\n",
              "        const dataTable =\n",
              "          await google.colab.kernel.invokeFunction('convertToInteractive',\n",
              "                                                    [key], {});\n",
              "        if (!dataTable) return;\n",
              "\n",
              "        const docLinkHtml = 'Like what you see? Visit the ' +\n",
              "          '<a target=\"_blank\" href=https://colab.research.google.com/notebooks/data_table.ipynb>data table notebook</a>'\n",
              "          + ' to learn more about interactive tables.';\n",
              "        element.innerHTML = '';\n",
              "        dataTable['output_type'] = 'display_data';\n",
              "        await google.colab.output.renderOutput(dataTable, element);\n",
              "        const docLink = document.createElement('div');\n",
              "        docLink.innerHTML = docLinkHtml;\n",
              "        element.appendChild(docLink);\n",
              "      }\n",
              "    </script>\n",
              "  </div>\n",
              "\n",
              "\n",
              "<div id=\"df-7b707948-8afc-4d16-b909-f74631044700\">\n",
              "  <button class=\"colab-df-quickchart\" onclick=\"quickchart('df-7b707948-8afc-4d16-b909-f74631044700')\"\n",
              "            title=\"Suggest charts.\"\n",
              "            style=\"display:none;\">\n",
              "\n",
              "<svg xmlns=\"http://www.w3.org/2000/svg\" height=\"24px\"viewBox=\"0 0 24 24\"\n",
              "     width=\"24px\">\n",
              "    <g>\n",
              "        <path d=\"M19 3H5c-1.1 0-2 .9-2 2v14c0 1.1.9 2 2 2h14c1.1 0 2-.9 2-2V5c0-1.1-.9-2-2-2zM9 17H7v-7h2v7zm4 0h-2V7h2v10zm4 0h-2v-4h2v4z\"/>\n",
              "    </g>\n",
              "</svg>\n",
              "  </button>\n",
              "\n",
              "<style>\n",
              "  .colab-df-quickchart {\n",
              "      --bg-color: #E8F0FE;\n",
              "      --fill-color: #1967D2;\n",
              "      --hover-bg-color: #E2EBFA;\n",
              "      --hover-fill-color: #174EA6;\n",
              "      --disabled-fill-color: #AAA;\n",
              "      --disabled-bg-color: #DDD;\n",
              "  }\n",
              "\n",
              "  [theme=dark] .colab-df-quickchart {\n",
              "      --bg-color: #3B4455;\n",
              "      --fill-color: #D2E3FC;\n",
              "      --hover-bg-color: #434B5C;\n",
              "      --hover-fill-color: #FFFFFF;\n",
              "      --disabled-bg-color: #3B4455;\n",
              "      --disabled-fill-color: #666;\n",
              "  }\n",
              "\n",
              "  .colab-df-quickchart {\n",
              "    background-color: var(--bg-color);\n",
              "    border: none;\n",
              "    border-radius: 50%;\n",
              "    cursor: pointer;\n",
              "    display: none;\n",
              "    fill: var(--fill-color);\n",
              "    height: 32px;\n",
              "    padding: 0;\n",
              "    width: 32px;\n",
              "  }\n",
              "\n",
              "  .colab-df-quickchart:hover {\n",
              "    background-color: var(--hover-bg-color);\n",
              "    box-shadow: 0 1px 2px rgba(60, 64, 67, 0.3), 0 1px 3px 1px rgba(60, 64, 67, 0.15);\n",
              "    fill: var(--button-hover-fill-color);\n",
              "  }\n",
              "\n",
              "  .colab-df-quickchart-complete:disabled,\n",
              "  .colab-df-quickchart-complete:disabled:hover {\n",
              "    background-color: var(--disabled-bg-color);\n",
              "    fill: var(--disabled-fill-color);\n",
              "    box-shadow: none;\n",
              "  }\n",
              "\n",
              "  .colab-df-spinner {\n",
              "    border: 2px solid var(--fill-color);\n",
              "    border-color: transparent;\n",
              "    border-bottom-color: var(--fill-color);\n",
              "    animation:\n",
              "      spin 1s steps(1) infinite;\n",
              "  }\n",
              "\n",
              "  @keyframes spin {\n",
              "    0% {\n",
              "      border-color: transparent;\n",
              "      border-bottom-color: var(--fill-color);\n",
              "      border-left-color: var(--fill-color);\n",
              "    }\n",
              "    20% {\n",
              "      border-color: transparent;\n",
              "      border-left-color: var(--fill-color);\n",
              "      border-top-color: var(--fill-color);\n",
              "    }\n",
              "    30% {\n",
              "      border-color: transparent;\n",
              "      border-left-color: var(--fill-color);\n",
              "      border-top-color: var(--fill-color);\n",
              "      border-right-color: var(--fill-color);\n",
              "    }\n",
              "    40% {\n",
              "      border-color: transparent;\n",
              "      border-right-color: var(--fill-color);\n",
              "      border-top-color: var(--fill-color);\n",
              "    }\n",
              "    60% {\n",
              "      border-color: transparent;\n",
              "      border-right-color: var(--fill-color);\n",
              "    }\n",
              "    80% {\n",
              "      border-color: transparent;\n",
              "      border-right-color: var(--fill-color);\n",
              "      border-bottom-color: var(--fill-color);\n",
              "    }\n",
              "    90% {\n",
              "      border-color: transparent;\n",
              "      border-bottom-color: var(--fill-color);\n",
              "    }\n",
              "  }\n",
              "</style>\n",
              "\n",
              "  <script>\n",
              "    async function quickchart(key) {\n",
              "      const quickchartButtonEl =\n",
              "        document.querySelector('#' + key + ' button');\n",
              "      quickchartButtonEl.disabled = true;  // To prevent multiple clicks.\n",
              "      quickchartButtonEl.classList.add('colab-df-spinner');\n",
              "      try {\n",
              "        const charts = await google.colab.kernel.invokeFunction(\n",
              "            'suggestCharts', [key], {});\n",
              "      } catch (error) {\n",
              "        console.error('Error during call to suggestCharts:', error);\n",
              "      }\n",
              "      quickchartButtonEl.classList.remove('colab-df-spinner');\n",
              "      quickchartButtonEl.classList.add('colab-df-quickchart-complete');\n",
              "    }\n",
              "    (() => {\n",
              "      let quickchartButtonEl =\n",
              "        document.querySelector('#df-7b707948-8afc-4d16-b909-f74631044700 button');\n",
              "      quickchartButtonEl.style.display =\n",
              "        google.colab.kernel.accessAllowed ? 'block' : 'none';\n",
              "    })();\n",
              "  </script>\n",
              "</div>\n",
              "    </div>\n",
              "  </div>\n"
            ]
          },
          "metadata": {},
          "execution_count": 6
        }
      ],
      "source": [
        "data.head()"
      ]
    },
    {
      "cell_type": "code",
      "execution_count": null,
      "metadata": {
        "id": "K3Ji05qzgJrl",
        "colab": {
          "base_uri": "https://localhost:8080/"
        },
        "outputId": "da316da4-9248-4588-c1ad-80e96210e3c3"
      },
      "outputs": [
        {
          "output_type": "execute_result",
          "data": {
            "text/plain": [
              "Product_ID                         0\n",
              "Gender                             0\n",
              "Age                                0\n",
              "Occupation                         0\n",
              "City_Category                      0\n",
              "Stay_In_Current_City_Years         0\n",
              "Marital_Status                     0\n",
              "Product_Category_1                 0\n",
              "Product_Category_2            245982\n",
              "Product_Category_3            545809\n",
              "Purchase                      233599\n",
              "dtype: int64"
            ]
          },
          "metadata": {},
          "execution_count": 7
        }
      ],
      "source": [
        "data.isnull().sum()"
      ]
    },
    {
      "cell_type": "code",
      "source": [
        "data['Stay_In_Current_City_Years']= data['Stay_In_Current_City_Years'].str.replace('+', '')"
      ],
      "metadata": {
        "colab": {
          "base_uri": "https://localhost:8080/"
        },
        "id": "rOtkmkTBvpLr",
        "outputId": "1619a8b3-f1fd-485f-d165-21d7b8dffce3"
      },
      "execution_count": null,
      "outputs": [
        {
          "output_type": "stream",
          "name": "stderr",
          "text": [
            "<ipython-input-8-ebac7554530f>:1: FutureWarning: The default value of regex will change from True to False in a future version. In addition, single character regular expressions will *not* be treated as literal strings when regex=True.\n",
            "  data['Stay_In_Current_City_Years']= data['Stay_In_Current_City_Years'].str.replace('+', '')\n"
          ]
        }
      ]
    },
    {
      "cell_type": "code",
      "source": [
        "data['Stay_In_Current_City_Years'] = data['Stay_In_Current_City_Years'].astype(int)"
      ],
      "metadata": {
        "id": "INTCJCiIwY0A"
      },
      "execution_count": null,
      "outputs": []
    },
    {
      "cell_type": "code",
      "source": [
        "data.info()"
      ],
      "metadata": {
        "colab": {
          "base_uri": "https://localhost:8080/"
        },
        "id": "WZZ_iA1HxKws",
        "outputId": "56928ed8-25e5-485d-f1eb-b75fad47fccd"
      },
      "execution_count": null,
      "outputs": [
        {
          "output_type": "stream",
          "name": "stdout",
          "text": [
            "<class 'pandas.core.frame.DataFrame'>\n",
            "Int64Index: 783667 entries, 0 to 233598\n",
            "Data columns (total 11 columns):\n",
            " #   Column                      Non-Null Count   Dtype  \n",
            "---  ------                      --------------   -----  \n",
            " 0   Product_ID                  783667 non-null  object \n",
            " 1   Gender                      783667 non-null  object \n",
            " 2   Age                         783667 non-null  object \n",
            " 3   Occupation                  783667 non-null  int64  \n",
            " 4   City_Category               783667 non-null  object \n",
            " 5   Stay_In_Current_City_Years  783667 non-null  int64  \n",
            " 6   Marital_Status              783667 non-null  int64  \n",
            " 7   Product_Category_1          783667 non-null  int64  \n",
            " 8   Product_Category_2          537685 non-null  float64\n",
            " 9   Product_Category_3          237858 non-null  float64\n",
            " 10  Purchase                    550068 non-null  float64\n",
            "dtypes: float64(3), int64(4), object(4)\n",
            "memory usage: 71.7+ MB\n"
          ]
        }
      ]
    },
    {
      "cell_type": "code",
      "source": [
        "from sklearn.neighbors import KNeighborsRegressor"
      ],
      "metadata": {
        "id": "RCPGr_G5b-H9"
      },
      "execution_count": null,
      "outputs": []
    },
    {
      "cell_type": "code",
      "source": [
        "#def knn_inpute(data, na_traget):\n",
        "#  df = data.copy()\n",
        "#\n",
        "#  numeric_data = df.select_dtypes(np.number)\n",
        "#\n",
        "#  non_na_columns = numeric_data.loc[:,numeric_data.isna().sum() == 0].columns\n",
        "#\n",
        "#  y_train = numeric_data.loc[numeric_data[na_traget].isna()==False, na_traget]\n",
        "#  x_train = numeric_data.loc[numeric_data[na_traget].isna()==False, non_na_columns]\n",
        "#  x_test = numeric_data.loc[numeric_data[na_traget].isna()==True, non_na_columns]\n",
        "#\n",
        "#  knn = KNeighborsRegressor()\n",
        "#  knn.fit(x_train, y_train)\n",
        "#\n",
        "#  y_pred = knn.predict(x_test)\n",
        "#\n",
        "#  data.loc[data[na_traget].isna()==True, na_traget] = y_pred\n",
        "#\n",
        "#  return df"
      ],
      "metadata": {
        "id": "k5KspxCab-Vu"
      },
      "execution_count": null,
      "outputs": []
    },
    {
      "cell_type": "code",
      "source": [
        "df = data.copy()\n",
        "\n",
        "numeric_data = df.select_dtypes(np.number)\n",
        "\n",
        "non_na_columns = numeric_data.loc[:,numeric_data.isna().sum() == 0].columns\n",
        "\n",
        "y_train = numeric_data.loc[numeric_data['Product_Category_2'].isna()==False, 'Product_Category_2']\n",
        "x_train = numeric_data.loc[numeric_data['Product_Category_2'].isna()==False, non_na_columns]\n",
        "x_test = numeric_data.loc[numeric_data['Product_Category_2'].isna()==True, non_na_columns]\n",
        "knn = KNeighborsRegressor()\n",
        "knn.fit(x_train, y_train)\n",
        "\n",
        "y_pred = knn.predict(x_test)\n",
        "data.loc[df['Product_Category_2'].isna()==True, 'Product_Category_2'] = y_pred"
      ],
      "metadata": {
        "id": "obzXG6BglUCI"
      },
      "execution_count": null,
      "outputs": []
    },
    {
      "cell_type": "markdown",
      "source": [],
      "metadata": {
        "id": "ilemppURl3ry"
      }
    },
    {
      "cell_type": "code",
      "source": [],
      "metadata": {
        "id": "9PsYXzkyl-P5"
      },
      "execution_count": null,
      "outputs": []
    },
    {
      "cell_type": "code",
      "source": [
        "data.isna().sum()"
      ],
      "metadata": {
        "colab": {
          "base_uri": "https://localhost:8080/"
        },
        "id": "OD8u4dVRb-iE",
        "outputId": "2e681a97-4956-4151-8240-e2793b6f9b4d"
      },
      "execution_count": null,
      "outputs": [
        {
          "output_type": "execute_result",
          "data": {
            "text/plain": [
              "Product_ID                         0\n",
              "Gender                             0\n",
              "Age                                0\n",
              "Occupation                         0\n",
              "City_Category                      0\n",
              "Stay_In_Current_City_Years         0\n",
              "Marital_Status                     0\n",
              "Product_Category_1                 0\n",
              "Product_Category_2                 0\n",
              "Product_Category_3            545809\n",
              "Purchase                      233599\n",
              "dtype: int64"
            ]
          },
          "metadata": {},
          "execution_count": 14
        }
      ]
    },
    {
      "cell_type": "code",
      "source": [
        "df = data.copy()\n",
        "\n",
        "numeric_data = df.select_dtypes(np.number)\n",
        "\n",
        "non_na_columns = numeric_data.loc[:,numeric_data.isna().sum() == 0].columns\n",
        "\n",
        "y_train = numeric_data.loc[numeric_data['Product_Category_3'].isna()==False, 'Product_Category_3']\n",
        "x_train = numeric_data.loc[numeric_data['Product_Category_3'].isna()==False, non_na_columns]\n",
        "x_test = numeric_data.loc[numeric_data['Product_Category_3'].isna()==True, non_na_columns]\n",
        "knn = KNeighborsRegressor()\n",
        "knn.fit(x_train, y_train)\n",
        "\n",
        "y_pred = knn.predict(x_test)\n",
        "data.loc[df['Product_Category_3'].isna()==True, 'Product_Category_3'] = y_pred"
      ],
      "metadata": {
        "id": "M9jkTcz9b-vy"
      },
      "execution_count": null,
      "outputs": []
    },
    {
      "cell_type": "code",
      "source": [
        "df = data.copy()\n",
        "\n",
        "numeric_data = df.select_dtypes(np.number)\n",
        "\n",
        "non_na_columns = numeric_data.loc[:,numeric_data.isna().sum() == 0].columns\n",
        "\n",
        "y_train = numeric_data.loc[numeric_data['Purchase'].isna()==False, 'Purchase']\n",
        "x_train = numeric_data.loc[numeric_data['Purchase'].isna()==False, non_na_columns]\n",
        "x_test = numeric_data.loc[numeric_data['Purchase'].isna()==True, non_na_columns]\n",
        "knn = KNeighborsRegressor()\n",
        "knn.fit(x_train, y_train)\n",
        "\n",
        "y_pred = knn.predict(x_test)\n",
        "data.loc[df['Purchase'].isna()==True, 'Purchase'] = y_pred"
      ],
      "metadata": {
        "id": "0xusJpeFb-9H"
      },
      "execution_count": null,
      "outputs": []
    },
    {
      "cell_type": "code",
      "source": [
        "import scipy.stats"
      ],
      "metadata": {
        "id": "bbMtrL1dq_sr"
      },
      "execution_count": null,
      "outputs": []
    },
    {
      "cell_type": "code",
      "source": [
        "skew_df= pd.DataFrame(data.select_dtypes(np.number).columns, columns = ['Feature'])\n",
        "skew_df['Skew'] = skew_df['Feature'].apply(lambda feature: scipy.stats.skew(data[feature]))\n",
        "skew_df['Absolute Skew'] = skew_df['Skew'].apply(abs)\n",
        "skew_df['Skewed']=skew_df['Absolute Skew'].apply(lambda x:True if x >= 0.5 else False)\n",
        "skew_df"
      ],
      "metadata": {
        "colab": {
          "base_uri": "https://localhost:8080/",
          "height": 269
        },
        "id": "NvwIfvv8r1Au",
        "outputId": "4ad0593a-fe51-450b-8c87-57f45fec37ae"
      },
      "execution_count": null,
      "outputs": [
        {
          "output_type": "execute_result",
          "data": {
            "text/plain": [
              "                      Feature      Skew  Absolute Skew  Skewed\n",
              "0                  Occupation  0.399766       0.399766   False\n",
              "1  Stay_In_Current_City_Years  0.318567       0.318567   False\n",
              "2              Marital_Status  0.366913       0.366913   False\n",
              "3          Product_Category_1  0.986592       0.986592    True\n",
              "4          Product_Category_2 -0.541700       0.541700    True\n",
              "5          Product_Category_3 -1.671322       1.671322    True\n",
              "6                    Purchase  0.571963       0.571963    True"
            ],
            "text/html": [
              "\n",
              "  <div id=\"df-6800d7c3-59cc-4cb0-b1d2-985038a24b36\" class=\"colab-df-container\">\n",
              "    <div>\n",
              "<style scoped>\n",
              "    .dataframe tbody tr th:only-of-type {\n",
              "        vertical-align: middle;\n",
              "    }\n",
              "\n",
              "    .dataframe tbody tr th {\n",
              "        vertical-align: top;\n",
              "    }\n",
              "\n",
              "    .dataframe thead th {\n",
              "        text-align: right;\n",
              "    }\n",
              "</style>\n",
              "<table border=\"1\" class=\"dataframe\">\n",
              "  <thead>\n",
              "    <tr style=\"text-align: right;\">\n",
              "      <th></th>\n",
              "      <th>Feature</th>\n",
              "      <th>Skew</th>\n",
              "      <th>Absolute Skew</th>\n",
              "      <th>Skewed</th>\n",
              "    </tr>\n",
              "  </thead>\n",
              "  <tbody>\n",
              "    <tr>\n",
              "      <th>0</th>\n",
              "      <td>Occupation</td>\n",
              "      <td>0.399766</td>\n",
              "      <td>0.399766</td>\n",
              "      <td>False</td>\n",
              "    </tr>\n",
              "    <tr>\n",
              "      <th>1</th>\n",
              "      <td>Stay_In_Current_City_Years</td>\n",
              "      <td>0.318567</td>\n",
              "      <td>0.318567</td>\n",
              "      <td>False</td>\n",
              "    </tr>\n",
              "    <tr>\n",
              "      <th>2</th>\n",
              "      <td>Marital_Status</td>\n",
              "      <td>0.366913</td>\n",
              "      <td>0.366913</td>\n",
              "      <td>False</td>\n",
              "    </tr>\n",
              "    <tr>\n",
              "      <th>3</th>\n",
              "      <td>Product_Category_1</td>\n",
              "      <td>0.986592</td>\n",
              "      <td>0.986592</td>\n",
              "      <td>True</td>\n",
              "    </tr>\n",
              "    <tr>\n",
              "      <th>4</th>\n",
              "      <td>Product_Category_2</td>\n",
              "      <td>-0.541700</td>\n",
              "      <td>0.541700</td>\n",
              "      <td>True</td>\n",
              "    </tr>\n",
              "    <tr>\n",
              "      <th>5</th>\n",
              "      <td>Product_Category_3</td>\n",
              "      <td>-1.671322</td>\n",
              "      <td>1.671322</td>\n",
              "      <td>True</td>\n",
              "    </tr>\n",
              "    <tr>\n",
              "      <th>6</th>\n",
              "      <td>Purchase</td>\n",
              "      <td>0.571963</td>\n",
              "      <td>0.571963</td>\n",
              "      <td>True</td>\n",
              "    </tr>\n",
              "  </tbody>\n",
              "</table>\n",
              "</div>\n",
              "    <div class=\"colab-df-buttons\">\n",
              "\n",
              "  <div class=\"colab-df-container\">\n",
              "    <button class=\"colab-df-convert\" onclick=\"convertToInteractive('df-6800d7c3-59cc-4cb0-b1d2-985038a24b36')\"\n",
              "            title=\"Convert this dataframe to an interactive table.\"\n",
              "            style=\"display:none;\">\n",
              "\n",
              "  <svg xmlns=\"http://www.w3.org/2000/svg\" height=\"24px\" viewBox=\"0 -960 960 960\">\n",
              "    <path d=\"M120-120v-720h720v720H120Zm60-500h600v-160H180v160Zm220 220h160v-160H400v160Zm0 220h160v-160H400v160ZM180-400h160v-160H180v160Zm440 0h160v-160H620v160ZM180-180h160v-160H180v160Zm440 0h160v-160H620v160Z\"/>\n",
              "  </svg>\n",
              "    </button>\n",
              "\n",
              "  <style>\n",
              "    .colab-df-container {\n",
              "      display:flex;\n",
              "      gap: 12px;\n",
              "    }\n",
              "\n",
              "    .colab-df-convert {\n",
              "      background-color: #E8F0FE;\n",
              "      border: none;\n",
              "      border-radius: 50%;\n",
              "      cursor: pointer;\n",
              "      display: none;\n",
              "      fill: #1967D2;\n",
              "      height: 32px;\n",
              "      padding: 0 0 0 0;\n",
              "      width: 32px;\n",
              "    }\n",
              "\n",
              "    .colab-df-convert:hover {\n",
              "      background-color: #E2EBFA;\n",
              "      box-shadow: 0px 1px 2px rgba(60, 64, 67, 0.3), 0px 1px 3px 1px rgba(60, 64, 67, 0.15);\n",
              "      fill: #174EA6;\n",
              "    }\n",
              "\n",
              "    .colab-df-buttons div {\n",
              "      margin-bottom: 4px;\n",
              "    }\n",
              "\n",
              "    [theme=dark] .colab-df-convert {\n",
              "      background-color: #3B4455;\n",
              "      fill: #D2E3FC;\n",
              "    }\n",
              "\n",
              "    [theme=dark] .colab-df-convert:hover {\n",
              "      background-color: #434B5C;\n",
              "      box-shadow: 0px 1px 3px 1px rgba(0, 0, 0, 0.15);\n",
              "      filter: drop-shadow(0px 1px 2px rgba(0, 0, 0, 0.3));\n",
              "      fill: #FFFFFF;\n",
              "    }\n",
              "  </style>\n",
              "\n",
              "    <script>\n",
              "      const buttonEl =\n",
              "        document.querySelector('#df-6800d7c3-59cc-4cb0-b1d2-985038a24b36 button.colab-df-convert');\n",
              "      buttonEl.style.display =\n",
              "        google.colab.kernel.accessAllowed ? 'block' : 'none';\n",
              "\n",
              "      async function convertToInteractive(key) {\n",
              "        const element = document.querySelector('#df-6800d7c3-59cc-4cb0-b1d2-985038a24b36');\n",
              "        const dataTable =\n",
              "          await google.colab.kernel.invokeFunction('convertToInteractive',\n",
              "                                                    [key], {});\n",
              "        if (!dataTable) return;\n",
              "\n",
              "        const docLinkHtml = 'Like what you see? Visit the ' +\n",
              "          '<a target=\"_blank\" href=https://colab.research.google.com/notebooks/data_table.ipynb>data table notebook</a>'\n",
              "          + ' to learn more about interactive tables.';\n",
              "        element.innerHTML = '';\n",
              "        dataTable['output_type'] = 'display_data';\n",
              "        await google.colab.output.renderOutput(dataTable, element);\n",
              "        const docLink = document.createElement('div');\n",
              "        docLink.innerHTML = docLinkHtml;\n",
              "        element.appendChild(docLink);\n",
              "      }\n",
              "    </script>\n",
              "  </div>\n",
              "\n",
              "\n",
              "<div id=\"df-add9bf94-f7bf-4e1e-afcb-2348f00017d2\">\n",
              "  <button class=\"colab-df-quickchart\" onclick=\"quickchart('df-add9bf94-f7bf-4e1e-afcb-2348f00017d2')\"\n",
              "            title=\"Suggest charts.\"\n",
              "            style=\"display:none;\">\n",
              "\n",
              "<svg xmlns=\"http://www.w3.org/2000/svg\" height=\"24px\"viewBox=\"0 0 24 24\"\n",
              "     width=\"24px\">\n",
              "    <g>\n",
              "        <path d=\"M19 3H5c-1.1 0-2 .9-2 2v14c0 1.1.9 2 2 2h14c1.1 0 2-.9 2-2V5c0-1.1-.9-2-2-2zM9 17H7v-7h2v7zm4 0h-2V7h2v10zm4 0h-2v-4h2v4z\"/>\n",
              "    </g>\n",
              "</svg>\n",
              "  </button>\n",
              "\n",
              "<style>\n",
              "  .colab-df-quickchart {\n",
              "      --bg-color: #E8F0FE;\n",
              "      --fill-color: #1967D2;\n",
              "      --hover-bg-color: #E2EBFA;\n",
              "      --hover-fill-color: #174EA6;\n",
              "      --disabled-fill-color: #AAA;\n",
              "      --disabled-bg-color: #DDD;\n",
              "  }\n",
              "\n",
              "  [theme=dark] .colab-df-quickchart {\n",
              "      --bg-color: #3B4455;\n",
              "      --fill-color: #D2E3FC;\n",
              "      --hover-bg-color: #434B5C;\n",
              "      --hover-fill-color: #FFFFFF;\n",
              "      --disabled-bg-color: #3B4455;\n",
              "      --disabled-fill-color: #666;\n",
              "  }\n",
              "\n",
              "  .colab-df-quickchart {\n",
              "    background-color: var(--bg-color);\n",
              "    border: none;\n",
              "    border-radius: 50%;\n",
              "    cursor: pointer;\n",
              "    display: none;\n",
              "    fill: var(--fill-color);\n",
              "    height: 32px;\n",
              "    padding: 0;\n",
              "    width: 32px;\n",
              "  }\n",
              "\n",
              "  .colab-df-quickchart:hover {\n",
              "    background-color: var(--hover-bg-color);\n",
              "    box-shadow: 0 1px 2px rgba(60, 64, 67, 0.3), 0 1px 3px 1px rgba(60, 64, 67, 0.15);\n",
              "    fill: var(--button-hover-fill-color);\n",
              "  }\n",
              "\n",
              "  .colab-df-quickchart-complete:disabled,\n",
              "  .colab-df-quickchart-complete:disabled:hover {\n",
              "    background-color: var(--disabled-bg-color);\n",
              "    fill: var(--disabled-fill-color);\n",
              "    box-shadow: none;\n",
              "  }\n",
              "\n",
              "  .colab-df-spinner {\n",
              "    border: 2px solid var(--fill-color);\n",
              "    border-color: transparent;\n",
              "    border-bottom-color: var(--fill-color);\n",
              "    animation:\n",
              "      spin 1s steps(1) infinite;\n",
              "  }\n",
              "\n",
              "  @keyframes spin {\n",
              "    0% {\n",
              "      border-color: transparent;\n",
              "      border-bottom-color: var(--fill-color);\n",
              "      border-left-color: var(--fill-color);\n",
              "    }\n",
              "    20% {\n",
              "      border-color: transparent;\n",
              "      border-left-color: var(--fill-color);\n",
              "      border-top-color: var(--fill-color);\n",
              "    }\n",
              "    30% {\n",
              "      border-color: transparent;\n",
              "      border-left-color: var(--fill-color);\n",
              "      border-top-color: var(--fill-color);\n",
              "      border-right-color: var(--fill-color);\n",
              "    }\n",
              "    40% {\n",
              "      border-color: transparent;\n",
              "      border-right-color: var(--fill-color);\n",
              "      border-top-color: var(--fill-color);\n",
              "    }\n",
              "    60% {\n",
              "      border-color: transparent;\n",
              "      border-right-color: var(--fill-color);\n",
              "    }\n",
              "    80% {\n",
              "      border-color: transparent;\n",
              "      border-right-color: var(--fill-color);\n",
              "      border-bottom-color: var(--fill-color);\n",
              "    }\n",
              "    90% {\n",
              "      border-color: transparent;\n",
              "      border-bottom-color: var(--fill-color);\n",
              "    }\n",
              "  }\n",
              "</style>\n",
              "\n",
              "  <script>\n",
              "    async function quickchart(key) {\n",
              "      const quickchartButtonEl =\n",
              "        document.querySelector('#' + key + ' button');\n",
              "      quickchartButtonEl.disabled = true;  // To prevent multiple clicks.\n",
              "      quickchartButtonEl.classList.add('colab-df-spinner');\n",
              "      try {\n",
              "        const charts = await google.colab.kernel.invokeFunction(\n",
              "            'suggestCharts', [key], {});\n",
              "      } catch (error) {\n",
              "        console.error('Error during call to suggestCharts:', error);\n",
              "      }\n",
              "      quickchartButtonEl.classList.remove('colab-df-spinner');\n",
              "      quickchartButtonEl.classList.add('colab-df-quickchart-complete');\n",
              "    }\n",
              "    (() => {\n",
              "      let quickchartButtonEl =\n",
              "        document.querySelector('#df-add9bf94-f7bf-4e1e-afcb-2348f00017d2 button');\n",
              "      quickchartButtonEl.style.display =\n",
              "        google.colab.kernel.accessAllowed ? 'block' : 'none';\n",
              "    })();\n",
              "  </script>\n",
              "</div>\n",
              "    </div>\n",
              "  </div>\n"
            ]
          },
          "metadata": {},
          "execution_count": 18
        }
      ]
    },
    {
      "cell_type": "code",
      "source": [
        "for column in skew_df.query('Skewed == True')['Feature'].values:\n",
        "  data[column] = np.log1p(data[column])"
      ],
      "metadata": {
        "id": "jEqRfwmKxgVM"
      },
      "execution_count": null,
      "outputs": []
    },
    {
      "cell_type": "code",
      "source": [],
      "metadata": {
        "id": "c3p56ePFrG1j"
      },
      "execution_count": null,
      "outputs": []
    },
    {
      "cell_type": "code",
      "source": [],
      "metadata": {
        "id": "-OwzWoh8yM0X"
      },
      "execution_count": null,
      "outputs": []
    },
    {
      "cell_type": "code",
      "source": [],
      "metadata": {
        "id": "XYrOQ10VyNFz"
      },
      "execution_count": null,
      "outputs": []
    },
    {
      "cell_type": "code",
      "source": [],
      "metadata": {
        "id": "ZqsLkp0JrG-e"
      },
      "execution_count": null,
      "outputs": []
    },
    {
      "cell_type": "code",
      "source": [],
      "metadata": {
        "id": "UkqOLKTVrHHI"
      },
      "execution_count": null,
      "outputs": []
    },
    {
      "cell_type": "code",
      "execution_count": null,
      "metadata": {
        "id": "2wbouRZVdNyr"
      },
      "outputs": [],
      "source": [
        "data['Gender'] = data['Gender'].map({'F':0, 'M':1})"
      ]
    },
    {
      "cell_type": "code",
      "execution_count": null,
      "metadata": {
        "id": "m7PCRVTufEDZ"
      },
      "outputs": [],
      "source": [
        "from sklearn.preprocessing import LabelEncoder\n",
        "enc = LabelEncoder()\n",
        "data['Age']=  enc.fit_transform(data['Age'])\n",
        "data['City_Category'] = enc.fit_transform(data['City_Category'])\n",
        "data['Stay_In_Current_City_Years']=enc.fit_transform(data['Stay_In_Current_City_Years'])"
      ]
    },
    {
      "cell_type": "code",
      "source": [],
      "metadata": {
        "id": "7_t4wxMqq_zj"
      },
      "execution_count": null,
      "outputs": []
    },
    {
      "cell_type": "code",
      "source": [],
      "metadata": {
        "id": "RXmPYQWFq_6x"
      },
      "execution_count": null,
      "outputs": []
    },
    {
      "cell_type": "code",
      "source": [],
      "metadata": {
        "id": "AKEw5kMJrAC6"
      },
      "execution_count": null,
      "outputs": []
    },
    {
      "cell_type": "code",
      "source": [],
      "metadata": {
        "id": "A8BCOmeMrAMc"
      },
      "execution_count": null,
      "outputs": []
    },
    {
      "cell_type": "code",
      "execution_count": null,
      "metadata": {
        "id": "8qvQj6PRnIz-"
      },
      "outputs": [],
      "source": [
        "X= data.drop(['Purchase', 'Product_ID'],axis = 1)\n",
        "y = data['Purchase']"
      ]
    },
    {
      "cell_type": "code",
      "source": [
        "log_y = np.log(y)"
      ],
      "metadata": {
        "id": "T_ilDh8WrAeZ"
      },
      "execution_count": null,
      "outputs": []
    },
    {
      "cell_type": "code",
      "source": [
        "!pip install -q pycaret"
      ],
      "metadata": {
        "colab": {
          "base_uri": "https://localhost:8080/"
        },
        "id": "P2jXpLylwaOF",
        "outputId": "cea85f1e-2f77-4665-d392-5512869a2c90"
      },
      "execution_count": null,
      "outputs": [
        {
          "output_type": "stream",
          "name": "stdout",
          "text": [
            "\u001b[2K     \u001b[90m━━━━━━━━━━━━━━━━━━━━━━━━━━━━━━━━━━━━━━━\u001b[0m \u001b[32m483.9/483.9 kB\u001b[0m \u001b[31m5.8 MB/s\u001b[0m eta \u001b[36m0:00:00\u001b[0m\n",
            "\u001b[2K     \u001b[90m━━━━━━━━━━━━━━━━━━━━━━━━━━━━━━━━━━━━━━━━\u001b[0m \u001b[32m34.4/34.4 MB\u001b[0m \u001b[31m33.8 MB/s\u001b[0m eta \u001b[36m0:00:00\u001b[0m\n",
            "\u001b[2K     \u001b[90m━━━━━━━━━━━━━━━━━━━━━━━━━━━━━━━━━━━━━━\u001b[0m \u001b[32m153.4/153.4 kB\u001b[0m \u001b[31m17.2 MB/s\u001b[0m eta \u001b[36m0:00:00\u001b[0m\n",
            "\u001b[?25h  Preparing metadata (setup.py) ... \u001b[?25l\u001b[?25hdone\n",
            "\u001b[2K     \u001b[90m━━━━━━━━━━━━━━━━━━━━━━━━━━━━━━━━━━━━━━━━\u001b[0m \u001b[32m81.8/81.8 kB\u001b[0m \u001b[31m7.9 MB/s\u001b[0m eta \u001b[36m0:00:00\u001b[0m\n",
            "\u001b[2K     \u001b[90m━━━━━━━━━━━━━━━━━━━━━━━━━━━━━━━━━━━━━━\u001b[0m \u001b[32m194.1/194.1 kB\u001b[0m \u001b[31m21.7 MB/s\u001b[0m eta \u001b[36m0:00:00\u001b[0m\n",
            "\u001b[2K     \u001b[90m━━━━━━━━━━━━━━━━━━━━━━━━━━━━━━━━━━━━━━━━\u001b[0m \u001b[32m79.9/79.9 MB\u001b[0m \u001b[31m10.8 MB/s\u001b[0m eta \u001b[36m0:00:00\u001b[0m\n",
            "\u001b[2K     \u001b[90m━━━━━━━━━━━━━━━━━━━━━━━━━━━━━━━━━━━━━━\u001b[0m \u001b[32m106.8/106.8 kB\u001b[0m \u001b[31m10.1 MB/s\u001b[0m eta \u001b[36m0:00:00\u001b[0m\n",
            "\u001b[2K     \u001b[90m━━━━━━━━━━━━━━━━━━━━━━━━━━━━━━━━━━━━━━━━\u001b[0m \u001b[32m73.4/73.4 kB\u001b[0m \u001b[31m5.8 MB/s\u001b[0m eta \u001b[36m0:00:00\u001b[0m\n",
            "\u001b[2K     \u001b[90m━━━━━━━━━━━━━━━━━━━━━━━━━━━━━━━━━━━━━━━━\u001b[0m \u001b[32m17.1/17.1 MB\u001b[0m \u001b[31m59.5 MB/s\u001b[0m eta \u001b[36m0:00:00\u001b[0m\n",
            "\u001b[2K     \u001b[90m━━━━━━━━━━━━━━━━━━━━━━━━━━━━━━━━━━━━━━━━\u001b[0m \u001b[32m44.0/44.0 kB\u001b[0m \u001b[31m4.4 MB/s\u001b[0m eta \u001b[36m0:00:00\u001b[0m\n",
            "\u001b[2K     \u001b[90m━━━━━━━━━━━━━━━━━━━━━━━━━━━━━━━━━━━━━━━━\u001b[0m \u001b[32m1.8/1.8 MB\u001b[0m \u001b[31m60.8 MB/s\u001b[0m eta \u001b[36m0:00:00\u001b[0m\n",
            "\u001b[2K     \u001b[90m━━━━━━━━━━━━━━━━━━━━━━━━━━━━━━━━━━━━━━━━\u001b[0m \u001b[32m1.6/1.6 MB\u001b[0m \u001b[31m42.5 MB/s\u001b[0m eta \u001b[36m0:00:00\u001b[0m\n",
            "\u001b[2K     \u001b[90m━━━━━━━━━━━━━━━━━━━━━━━━━━━━━━━━━━━━━━━━\u001b[0m \u001b[32m10.4/10.4 MB\u001b[0m \u001b[31m64.2 MB/s\u001b[0m eta \u001b[36m0:00:00\u001b[0m\n",
            "\u001b[2K     \u001b[90m━━━━━━━━━━━━━━━━━━━━━━━━━━━━━━━━━━━━━━\u001b[0m \u001b[32m138.7/138.7 kB\u001b[0m \u001b[31m14.6 MB/s\u001b[0m eta \u001b[36m0:00:00\u001b[0m\n",
            "\u001b[2K     \u001b[90m━━━━━━━━━━━━━━━━━━━━━━━━━━━━━━━━━━━━━━\u001b[0m \u001b[32m185.2/185.2 kB\u001b[0m \u001b[31m17.0 MB/s\u001b[0m eta \u001b[36m0:00:00\u001b[0m\n",
            "\u001b[2K     \u001b[90m━━━━━━━━━━━━━━━━━━━━━━━━━━━━━━━━━━━━━━━━\u001b[0m \u001b[32m2.3/2.3 MB\u001b[0m \u001b[31m62.5 MB/s\u001b[0m eta \u001b[36m0:00:00\u001b[0m\n",
            "\u001b[2K     \u001b[90m━━━━━━━━━━━━━━━━━━━━━━━━━━━━━━━━━━━━━━\u001b[0m \u001b[32m118.7/118.7 kB\u001b[0m \u001b[31m11.1 MB/s\u001b[0m eta \u001b[36m0:00:00\u001b[0m\n",
            "\u001b[2K     \u001b[90m━━━━━━━━━━━━━━━━━━━━━━━━━━━━━━━━━━━━━━\u001b[0m \u001b[32m233.6/233.6 kB\u001b[0m \u001b[31m23.7 MB/s\u001b[0m eta \u001b[36m0:00:00\u001b[0m\n",
            "\u001b[?25h  Building wheel for pyod (setup.py) ... \u001b[?25l\u001b[?25hdone\n"
          ]
        }
      ]
    },
    {
      "cell_type": "code",
      "source": [
        "from pycaret.regression import setup, compare_models"
      ],
      "metadata": {
        "id": "BRUoEdjIwalZ"
      },
      "execution_count": null,
      "outputs": []
    },
    {
      "cell_type": "code",
      "execution_count": null,
      "metadata": {
        "id": "_q2Wqw2OnkmQ"
      },
      "outputs": [],
      "source": [
        "from sklearn.model_selection import train_test_split\n",
        "X_train, x_test, Y_train, y_test = train_test_split(X, log_y,test_size = 0.33, random_state=621)"
      ]
    },
    {
      "cell_type": "code",
      "source": [
        "_ = setup(data =pd.concat([X_train,Y_train], axis = 1), target = 'Purchase', index = False)"
      ],
      "metadata": {
        "colab": {
          "base_uri": "https://localhost:8080/",
          "height": 645
        },
        "id": "LhR6dYbIwa9y",
        "outputId": "ed942f64-201d-4d2f-c66a-f6cd199d17cb"
      },
      "execution_count": null,
      "outputs": [
        {
          "output_type": "display_data",
          "data": {
            "text/plain": [
              "<pandas.io.formats.style.Styler at 0x7afd56bb7130>"
            ],
            "text/html": [
              "<style type=\"text/css\">\n",
              "#T_6ebef_row8_col1 {\n",
              "  background-color: lightgreen;\n",
              "}\n",
              "</style>\n",
              "<table id=\"T_6ebef\" class=\"dataframe\">\n",
              "  <thead>\n",
              "    <tr>\n",
              "      <th class=\"blank level0\" >&nbsp;</th>\n",
              "      <th id=\"T_6ebef_level0_col0\" class=\"col_heading level0 col0\" >Description</th>\n",
              "      <th id=\"T_6ebef_level0_col1\" class=\"col_heading level0 col1\" >Value</th>\n",
              "    </tr>\n",
              "  </thead>\n",
              "  <tbody>\n",
              "    <tr>\n",
              "      <th id=\"T_6ebef_level0_row0\" class=\"row_heading level0 row0\" >0</th>\n",
              "      <td id=\"T_6ebef_row0_col0\" class=\"data row0 col0\" >Session id</td>\n",
              "      <td id=\"T_6ebef_row0_col1\" class=\"data row0 col1\" >8911</td>\n",
              "    </tr>\n",
              "    <tr>\n",
              "      <th id=\"T_6ebef_level0_row1\" class=\"row_heading level0 row1\" >1</th>\n",
              "      <td id=\"T_6ebef_row1_col0\" class=\"data row1 col0\" >Target</td>\n",
              "      <td id=\"T_6ebef_row1_col1\" class=\"data row1 col1\" >Purchase</td>\n",
              "    </tr>\n",
              "    <tr>\n",
              "      <th id=\"T_6ebef_level0_row2\" class=\"row_heading level0 row2\" >2</th>\n",
              "      <td id=\"T_6ebef_row2_col0\" class=\"data row2 col0\" >Target type</td>\n",
              "      <td id=\"T_6ebef_row2_col1\" class=\"data row2 col1\" >Regression</td>\n",
              "    </tr>\n",
              "    <tr>\n",
              "      <th id=\"T_6ebef_level0_row3\" class=\"row_heading level0 row3\" >3</th>\n",
              "      <td id=\"T_6ebef_row3_col0\" class=\"data row3 col0\" >Original data shape</td>\n",
              "      <td id=\"T_6ebef_row3_col1\" class=\"data row3 col1\" >(735204, 10)</td>\n",
              "    </tr>\n",
              "    <tr>\n",
              "      <th id=\"T_6ebef_level0_row4\" class=\"row_heading level0 row4\" >4</th>\n",
              "      <td id=\"T_6ebef_row4_col0\" class=\"data row4 col0\" >Transformed data shape</td>\n",
              "      <td id=\"T_6ebef_row4_col1\" class=\"data row4 col1\" >(735204, 10)</td>\n",
              "    </tr>\n",
              "    <tr>\n",
              "      <th id=\"T_6ebef_level0_row5\" class=\"row_heading level0 row5\" >5</th>\n",
              "      <td id=\"T_6ebef_row5_col0\" class=\"data row5 col0\" >Transformed train set shape</td>\n",
              "      <td id=\"T_6ebef_row5_col1\" class=\"data row5 col1\" >(514642, 10)</td>\n",
              "    </tr>\n",
              "    <tr>\n",
              "      <th id=\"T_6ebef_level0_row6\" class=\"row_heading level0 row6\" >6</th>\n",
              "      <td id=\"T_6ebef_row6_col0\" class=\"data row6 col0\" >Transformed test set shape</td>\n",
              "      <td id=\"T_6ebef_row6_col1\" class=\"data row6 col1\" >(220562, 10)</td>\n",
              "    </tr>\n",
              "    <tr>\n",
              "      <th id=\"T_6ebef_level0_row7\" class=\"row_heading level0 row7\" >7</th>\n",
              "      <td id=\"T_6ebef_row7_col0\" class=\"data row7 col0\" >Numeric features</td>\n",
              "      <td id=\"T_6ebef_row7_col1\" class=\"data row7 col1\" >9</td>\n",
              "    </tr>\n",
              "    <tr>\n",
              "      <th id=\"T_6ebef_level0_row8\" class=\"row_heading level0 row8\" >8</th>\n",
              "      <td id=\"T_6ebef_row8_col0\" class=\"data row8 col0\" >Preprocess</td>\n",
              "      <td id=\"T_6ebef_row8_col1\" class=\"data row8 col1\" >True</td>\n",
              "    </tr>\n",
              "    <tr>\n",
              "      <th id=\"T_6ebef_level0_row9\" class=\"row_heading level0 row9\" >9</th>\n",
              "      <td id=\"T_6ebef_row9_col0\" class=\"data row9 col0\" >Imputation type</td>\n",
              "      <td id=\"T_6ebef_row9_col1\" class=\"data row9 col1\" >simple</td>\n",
              "    </tr>\n",
              "    <tr>\n",
              "      <th id=\"T_6ebef_level0_row10\" class=\"row_heading level0 row10\" >10</th>\n",
              "      <td id=\"T_6ebef_row10_col0\" class=\"data row10 col0\" >Numeric imputation</td>\n",
              "      <td id=\"T_6ebef_row10_col1\" class=\"data row10 col1\" >mean</td>\n",
              "    </tr>\n",
              "    <tr>\n",
              "      <th id=\"T_6ebef_level0_row11\" class=\"row_heading level0 row11\" >11</th>\n",
              "      <td id=\"T_6ebef_row11_col0\" class=\"data row11 col0\" >Categorical imputation</td>\n",
              "      <td id=\"T_6ebef_row11_col1\" class=\"data row11 col1\" >mode</td>\n",
              "    </tr>\n",
              "    <tr>\n",
              "      <th id=\"T_6ebef_level0_row12\" class=\"row_heading level0 row12\" >12</th>\n",
              "      <td id=\"T_6ebef_row12_col0\" class=\"data row12 col0\" >Fold Generator</td>\n",
              "      <td id=\"T_6ebef_row12_col1\" class=\"data row12 col1\" >KFold</td>\n",
              "    </tr>\n",
              "    <tr>\n",
              "      <th id=\"T_6ebef_level0_row13\" class=\"row_heading level0 row13\" >13</th>\n",
              "      <td id=\"T_6ebef_row13_col0\" class=\"data row13 col0\" >Fold Number</td>\n",
              "      <td id=\"T_6ebef_row13_col1\" class=\"data row13 col1\" >10</td>\n",
              "    </tr>\n",
              "    <tr>\n",
              "      <th id=\"T_6ebef_level0_row14\" class=\"row_heading level0 row14\" >14</th>\n",
              "      <td id=\"T_6ebef_row14_col0\" class=\"data row14 col0\" >CPU Jobs</td>\n",
              "      <td id=\"T_6ebef_row14_col1\" class=\"data row14 col1\" >-1</td>\n",
              "    </tr>\n",
              "    <tr>\n",
              "      <th id=\"T_6ebef_level0_row15\" class=\"row_heading level0 row15\" >15</th>\n",
              "      <td id=\"T_6ebef_row15_col0\" class=\"data row15 col0\" >Use GPU</td>\n",
              "      <td id=\"T_6ebef_row15_col1\" class=\"data row15 col1\" >False</td>\n",
              "    </tr>\n",
              "    <tr>\n",
              "      <th id=\"T_6ebef_level0_row16\" class=\"row_heading level0 row16\" >16</th>\n",
              "      <td id=\"T_6ebef_row16_col0\" class=\"data row16 col0\" >Log Experiment</td>\n",
              "      <td id=\"T_6ebef_row16_col1\" class=\"data row16 col1\" >False</td>\n",
              "    </tr>\n",
              "    <tr>\n",
              "      <th id=\"T_6ebef_level0_row17\" class=\"row_heading level0 row17\" >17</th>\n",
              "      <td id=\"T_6ebef_row17_col0\" class=\"data row17 col0\" >Experiment Name</td>\n",
              "      <td id=\"T_6ebef_row17_col1\" class=\"data row17 col1\" >reg-default-name</td>\n",
              "    </tr>\n",
              "    <tr>\n",
              "      <th id=\"T_6ebef_level0_row18\" class=\"row_heading level0 row18\" >18</th>\n",
              "      <td id=\"T_6ebef_row18_col0\" class=\"data row18 col0\" >USI</td>\n",
              "      <td id=\"T_6ebef_row18_col1\" class=\"data row18 col1\" >5288</td>\n",
              "    </tr>\n",
              "  </tbody>\n",
              "</table>\n"
            ]
          },
          "metadata": {}
        }
      ]
    },
    {
      "cell_type": "code",
      "source": [
        "compare_models()"
      ],
      "metadata": {
        "colab": {
          "base_uri": "https://localhost:8080/",
          "height": 703,
          "referenced_widgets": [
            "6709d14d9c564edfbacc698d505b0665",
            "5e0ed5de7cf8409fa22b4bdda5ed5a46",
            "353e1ee1530945b4846da33ca577c3ab",
            "df4cf2433ff149b4af2e48280aaf1f65",
            "12b59ba5f1c941008740020ae74509f2",
            "d50b1d7d6a244401bfb02f0b3068b1e9",
            "d5c8b4f56035451ea7e09af58503a17b",
            "c7407535eb304372a8c37e7cbb0e4714",
            "814d63f10a7346e8a11b09107d956632",
            "68cd3c5cd67f4364816067d7b0d126ad",
            "d4f2ae1a43684767b8982400dac59485"
          ]
        },
        "id": "ucLMlYDBxQn6",
        "outputId": "8890c572-3c34-4bbe-d32c-adaa96882e73"
      },
      "execution_count": null,
      "outputs": [
        {
          "output_type": "display_data",
          "data": {
            "text/plain": [
              "<IPython.core.display.HTML object>"
            ],
            "text/html": []
          },
          "metadata": {}
        },
        {
          "output_type": "display_data",
          "data": {
            "text/plain": [
              "<pandas.io.formats.style.Styler at 0x7afd56f188e0>"
            ],
            "text/html": [
              "<style type=\"text/css\">\n",
              "#T_153fd th {\n",
              "  text-align: left;\n",
              "}\n",
              "#T_153fd_row0_col0, #T_153fd_row0_col1, #T_153fd_row0_col6, #T_153fd_row1_col0, #T_153fd_row1_col4, #T_153fd_row2_col0, #T_153fd_row2_col1, #T_153fd_row2_col3, #T_153fd_row2_col4, #T_153fd_row2_col5, #T_153fd_row2_col6, #T_153fd_row3_col0, #T_153fd_row3_col1, #T_153fd_row3_col2, #T_153fd_row3_col3, #T_153fd_row3_col4, #T_153fd_row3_col5, #T_153fd_row3_col6, #T_153fd_row4_col0, #T_153fd_row4_col1, #T_153fd_row4_col2, #T_153fd_row4_col3, #T_153fd_row4_col4, #T_153fd_row4_col5, #T_153fd_row4_col6, #T_153fd_row5_col0, #T_153fd_row5_col1, #T_153fd_row5_col2, #T_153fd_row5_col3, #T_153fd_row5_col4, #T_153fd_row5_col5, #T_153fd_row5_col6, #T_153fd_row6_col0, #T_153fd_row6_col1, #T_153fd_row6_col2, #T_153fd_row6_col3, #T_153fd_row6_col4, #T_153fd_row6_col5, #T_153fd_row6_col6, #T_153fd_row7_col0, #T_153fd_row7_col1, #T_153fd_row7_col2, #T_153fd_row7_col3, #T_153fd_row7_col4, #T_153fd_row7_col5, #T_153fd_row7_col6, #T_153fd_row8_col0, #T_153fd_row8_col1, #T_153fd_row8_col2, #T_153fd_row8_col3, #T_153fd_row8_col4, #T_153fd_row8_col5, #T_153fd_row8_col6, #T_153fd_row9_col0, #T_153fd_row9_col1, #T_153fd_row9_col2, #T_153fd_row9_col3, #T_153fd_row9_col4, #T_153fd_row9_col5, #T_153fd_row9_col6, #T_153fd_row10_col0, #T_153fd_row10_col1, #T_153fd_row10_col2, #T_153fd_row10_col3, #T_153fd_row10_col4, #T_153fd_row10_col5, #T_153fd_row10_col6, #T_153fd_row11_col0, #T_153fd_row11_col1, #T_153fd_row11_col2, #T_153fd_row11_col3, #T_153fd_row11_col4, #T_153fd_row11_col5, #T_153fd_row11_col6, #T_153fd_row12_col0, #T_153fd_row12_col1, #T_153fd_row12_col2, #T_153fd_row12_col3, #T_153fd_row12_col4, #T_153fd_row12_col5, #T_153fd_row12_col6, #T_153fd_row13_col0, #T_153fd_row13_col1, #T_153fd_row13_col2, #T_153fd_row13_col3, #T_153fd_row13_col4, #T_153fd_row13_col5, #T_153fd_row13_col6, #T_153fd_row14_col0, #T_153fd_row14_col1, #T_153fd_row14_col2, #T_153fd_row14_col3, #T_153fd_row14_col4, #T_153fd_row14_col5, #T_153fd_row14_col6, #T_153fd_row15_col0, #T_153fd_row15_col1, #T_153fd_row15_col2, #T_153fd_row15_col3, #T_153fd_row15_col4, #T_153fd_row15_col5, #T_153fd_row15_col6, #T_153fd_row16_col0, #T_153fd_row16_col1, #T_153fd_row16_col2, #T_153fd_row16_col3, #T_153fd_row16_col4, #T_153fd_row16_col5, #T_153fd_row16_col6, #T_153fd_row17_col0, #T_153fd_row17_col1, #T_153fd_row17_col2, #T_153fd_row17_col3, #T_153fd_row17_col4, #T_153fd_row17_col5, #T_153fd_row17_col6, #T_153fd_row18_col0, #T_153fd_row18_col1, #T_153fd_row18_col2, #T_153fd_row18_col3, #T_153fd_row18_col4, #T_153fd_row18_col5, #T_153fd_row18_col6 {\n",
              "  text-align: left;\n",
              "}\n",
              "#T_153fd_row0_col2, #T_153fd_row0_col3, #T_153fd_row0_col4, #T_153fd_row0_col5, #T_153fd_row1_col1, #T_153fd_row1_col2, #T_153fd_row1_col3, #T_153fd_row1_col5, #T_153fd_row1_col6, #T_153fd_row2_col2 {\n",
              "  text-align: left;\n",
              "  background-color: yellow;\n",
              "}\n",
              "#T_153fd_row0_col7, #T_153fd_row1_col7, #T_153fd_row2_col7, #T_153fd_row3_col7, #T_153fd_row4_col7, #T_153fd_row5_col7, #T_153fd_row6_col7, #T_153fd_row7_col7, #T_153fd_row8_col7, #T_153fd_row9_col7, #T_153fd_row10_col7, #T_153fd_row11_col7, #T_153fd_row12_col7, #T_153fd_row13_col7, #T_153fd_row14_col7, #T_153fd_row15_col7, #T_153fd_row16_col7, #T_153fd_row18_col7 {\n",
              "  text-align: left;\n",
              "  background-color: lightgrey;\n",
              "}\n",
              "#T_153fd_row17_col7 {\n",
              "  text-align: left;\n",
              "  background-color: yellow;\n",
              "  background-color: lightgrey;\n",
              "}\n",
              "</style>\n",
              "<table id=\"T_153fd\" class=\"dataframe\">\n",
              "  <thead>\n",
              "    <tr>\n",
              "      <th class=\"blank level0\" >&nbsp;</th>\n",
              "      <th id=\"T_153fd_level0_col0\" class=\"col_heading level0 col0\" >Model</th>\n",
              "      <th id=\"T_153fd_level0_col1\" class=\"col_heading level0 col1\" >MAE</th>\n",
              "      <th id=\"T_153fd_level0_col2\" class=\"col_heading level0 col2\" >MSE</th>\n",
              "      <th id=\"T_153fd_level0_col3\" class=\"col_heading level0 col3\" >RMSE</th>\n",
              "      <th id=\"T_153fd_level0_col4\" class=\"col_heading level0 col4\" >R2</th>\n",
              "      <th id=\"T_153fd_level0_col5\" class=\"col_heading level0 col5\" >RMSLE</th>\n",
              "      <th id=\"T_153fd_level0_col6\" class=\"col_heading level0 col6\" >MAPE</th>\n",
              "      <th id=\"T_153fd_level0_col7\" class=\"col_heading level0 col7\" >TT (Sec)</th>\n",
              "    </tr>\n",
              "  </thead>\n",
              "  <tbody>\n",
              "    <tr>\n",
              "      <th id=\"T_153fd_level0_row0\" class=\"row_heading level0 row0\" >lightgbm</th>\n",
              "      <td id=\"T_153fd_row0_col0\" class=\"data row0 col0\" >Light Gradient Boosting Machine</td>\n",
              "      <td id=\"T_153fd_row0_col1\" class=\"data row0 col1\" >0.0387</td>\n",
              "      <td id=\"T_153fd_row0_col2\" class=\"data row0 col2\" >0.0032</td>\n",
              "      <td id=\"T_153fd_row0_col3\" class=\"data row0 col3\" >0.0567</td>\n",
              "      <td id=\"T_153fd_row0_col4\" class=\"data row0 col4\" >0.5351</td>\n",
              "      <td id=\"T_153fd_row0_col5\" class=\"data row0 col5\" >0.0182</td>\n",
              "      <td id=\"T_153fd_row0_col6\" class=\"data row0 col6\" >0.0180</td>\n",
              "      <td id=\"T_153fd_row0_col7\" class=\"data row0 col7\" >7.3100</td>\n",
              "    </tr>\n",
              "    <tr>\n",
              "      <th id=\"T_153fd_level0_row1\" class=\"row_heading level0 row1\" >xgboost</th>\n",
              "      <td id=\"T_153fd_row1_col0\" class=\"data row1 col0\" >Extreme Gradient Boosting</td>\n",
              "      <td id=\"T_153fd_row1_col1\" class=\"data row1 col1\" >0.0385</td>\n",
              "      <td id=\"T_153fd_row1_col2\" class=\"data row1 col2\" >0.0032</td>\n",
              "      <td id=\"T_153fd_row1_col3\" class=\"data row1 col3\" >0.0567</td>\n",
              "      <td id=\"T_153fd_row1_col4\" class=\"data row1 col4\" >0.5348</td>\n",
              "      <td id=\"T_153fd_row1_col5\" class=\"data row1 col5\" >0.0182</td>\n",
              "      <td id=\"T_153fd_row1_col6\" class=\"data row1 col6\" >0.0179</td>\n",
              "      <td id=\"T_153fd_row1_col7\" class=\"data row1 col7\" >33.5470</td>\n",
              "    </tr>\n",
              "    <tr>\n",
              "      <th id=\"T_153fd_level0_row2\" class=\"row_heading level0 row2\" >gbr</th>\n",
              "      <td id=\"T_153fd_row2_col0\" class=\"data row2 col0\" >Gradient Boosting Regressor</td>\n",
              "      <td id=\"T_153fd_row2_col1\" class=\"data row2 col1\" >0.0391</td>\n",
              "      <td id=\"T_153fd_row2_col2\" class=\"data row2 col2\" >0.0032</td>\n",
              "      <td id=\"T_153fd_row2_col3\" class=\"data row2 col3\" >0.0569</td>\n",
              "      <td id=\"T_153fd_row2_col4\" class=\"data row2 col4\" >0.5320</td>\n",
              "      <td id=\"T_153fd_row2_col5\" class=\"data row2 col5\" >0.0183</td>\n",
              "      <td id=\"T_153fd_row2_col6\" class=\"data row2 col6\" >0.0182</td>\n",
              "      <td id=\"T_153fd_row2_col7\" class=\"data row2 col7\" >29.3260</td>\n",
              "    </tr>\n",
              "    <tr>\n",
              "      <th id=\"T_153fd_level0_row3\" class=\"row_heading level0 row3\" >rf</th>\n",
              "      <td id=\"T_153fd_row3_col0\" class=\"data row3 col0\" >Random Forest Regressor</td>\n",
              "      <td id=\"T_153fd_row3_col1\" class=\"data row3 col1\" >0.0422</td>\n",
              "      <td id=\"T_153fd_row3_col2\" class=\"data row3 col2\" >0.0038</td>\n",
              "      <td id=\"T_153fd_row3_col3\" class=\"data row3 col3\" >0.0619</td>\n",
              "      <td id=\"T_153fd_row3_col4\" class=\"data row3 col4\" >0.4455</td>\n",
              "      <td id=\"T_153fd_row3_col5\" class=\"data row3 col5\" >0.0199</td>\n",
              "      <td id=\"T_153fd_row3_col6\" class=\"data row3 col6\" >0.0196</td>\n",
              "      <td id=\"T_153fd_row3_col7\" class=\"data row3 col7\" >108.7570</td>\n",
              "    </tr>\n",
              "    <tr>\n",
              "      <th id=\"T_153fd_level0_row4\" class=\"row_heading level0 row4\" >ada</th>\n",
              "      <td id=\"T_153fd_row4_col0\" class=\"data row4 col0\" >AdaBoost Regressor</td>\n",
              "      <td id=\"T_153fd_row4_col1\" class=\"data row4 col1\" >0.0488</td>\n",
              "      <td id=\"T_153fd_row4_col2\" class=\"data row4 col2\" >0.0041</td>\n",
              "      <td id=\"T_153fd_row4_col3\" class=\"data row4 col3\" >0.0643</td>\n",
              "      <td id=\"T_153fd_row4_col4\" class=\"data row4 col4\" >0.4010</td>\n",
              "      <td id=\"T_153fd_row4_col5\" class=\"data row4 col5\" >0.0205</td>\n",
              "      <td id=\"T_153fd_row4_col6\" class=\"data row4 col6\" >0.0225</td>\n",
              "      <td id=\"T_153fd_row4_col7\" class=\"data row4 col7\" >7.0060</td>\n",
              "    </tr>\n",
              "    <tr>\n",
              "      <th id=\"T_153fd_level0_row5\" class=\"row_heading level0 row5\" >et</th>\n",
              "      <td id=\"T_153fd_row5_col0\" class=\"data row5 col0\" >Extra Trees Regressor</td>\n",
              "      <td id=\"T_153fd_row5_col1\" class=\"data row5 col1\" >0.0436</td>\n",
              "      <td id=\"T_153fd_row5_col2\" class=\"data row5 col2\" >0.0042</td>\n",
              "      <td id=\"T_153fd_row5_col3\" class=\"data row5 col3\" >0.0647</td>\n",
              "      <td id=\"T_153fd_row5_col4\" class=\"data row5 col4\" >0.3939</td>\n",
              "      <td id=\"T_153fd_row5_col5\" class=\"data row5 col5\" >0.0208</td>\n",
              "      <td id=\"T_153fd_row5_col6\" class=\"data row5 col6\" >0.0203</td>\n",
              "      <td id=\"T_153fd_row5_col7\" class=\"data row5 col7\" >84.5180</td>\n",
              "    </tr>\n",
              "    <tr>\n",
              "      <th id=\"T_153fd_level0_row6\" class=\"row_heading level0 row6\" >dt</th>\n",
              "      <td id=\"T_153fd_row6_col0\" class=\"data row6 col0\" >Decision Tree Regressor</td>\n",
              "      <td id=\"T_153fd_row6_col1\" class=\"data row6 col1\" >0.0446</td>\n",
              "      <td id=\"T_153fd_row6_col2\" class=\"data row6 col2\" >0.0044</td>\n",
              "      <td id=\"T_153fd_row6_col3\" class=\"data row6 col3\" >0.0664</td>\n",
              "      <td id=\"T_153fd_row6_col4\" class=\"data row6 col4\" >0.3622</td>\n",
              "      <td id=\"T_153fd_row6_col5\" class=\"data row6 col5\" >0.0214</td>\n",
              "      <td id=\"T_153fd_row6_col6\" class=\"data row6 col6\" >0.0208</td>\n",
              "      <td id=\"T_153fd_row6_col7\" class=\"data row6 col7\" >1.4160</td>\n",
              "    </tr>\n",
              "    <tr>\n",
              "      <th id=\"T_153fd_level0_row7\" class=\"row_heading level0 row7\" >knn</th>\n",
              "      <td id=\"T_153fd_row7_col0\" class=\"data row7 col0\" >K Neighbors Regressor</td>\n",
              "      <td id=\"T_153fd_row7_col1\" class=\"data row7 col1\" >0.0472</td>\n",
              "      <td id=\"T_153fd_row7_col2\" class=\"data row7 col2\" >0.0055</td>\n",
              "      <td id=\"T_153fd_row7_col3\" class=\"data row7 col3\" >0.0744</td>\n",
              "      <td id=\"T_153fd_row7_col4\" class=\"data row7 col4\" >0.1985</td>\n",
              "      <td id=\"T_153fd_row7_col5\" class=\"data row7 col5\" >0.0248</td>\n",
              "      <td id=\"T_153fd_row7_col6\" class=\"data row7 col6\" >0.0224</td>\n",
              "      <td id=\"T_153fd_row7_col7\" class=\"data row7 col7\" >6.1040</td>\n",
              "    </tr>\n",
              "    <tr>\n",
              "      <th id=\"T_153fd_level0_row8\" class=\"row_heading level0 row8\" >lar</th>\n",
              "      <td id=\"T_153fd_row8_col0\" class=\"data row8 col0\" >Least Angle Regression</td>\n",
              "      <td id=\"T_153fd_row8_col1\" class=\"data row8 col1\" >0.0493</td>\n",
              "      <td id=\"T_153fd_row8_col2\" class=\"data row8 col2\" >0.0062</td>\n",
              "      <td id=\"T_153fd_row8_col3\" class=\"data row8 col3\" >0.0785</td>\n",
              "      <td id=\"T_153fd_row8_col4\" class=\"data row8 col4\" >0.1098</td>\n",
              "      <td id=\"T_153fd_row8_col5\" class=\"data row8 col5\" >0.0262</td>\n",
              "      <td id=\"T_153fd_row8_col6\" class=\"data row8 col6\" >0.0235</td>\n",
              "      <td id=\"T_153fd_row8_col7\" class=\"data row8 col7\" >0.1340</td>\n",
              "    </tr>\n",
              "    <tr>\n",
              "      <th id=\"T_153fd_level0_row9\" class=\"row_heading level0 row9\" >br</th>\n",
              "      <td id=\"T_153fd_row9_col0\" class=\"data row9 col0\" >Bayesian Ridge</td>\n",
              "      <td id=\"T_153fd_row9_col1\" class=\"data row9 col1\" >0.0493</td>\n",
              "      <td id=\"T_153fd_row9_col2\" class=\"data row9 col2\" >0.0062</td>\n",
              "      <td id=\"T_153fd_row9_col3\" class=\"data row9 col3\" >0.0785</td>\n",
              "      <td id=\"T_153fd_row9_col4\" class=\"data row9 col4\" >0.1098</td>\n",
              "      <td id=\"T_153fd_row9_col5\" class=\"data row9 col5\" >0.0262</td>\n",
              "      <td id=\"T_153fd_row9_col6\" class=\"data row9 col6\" >0.0235</td>\n",
              "      <td id=\"T_153fd_row9_col7\" class=\"data row9 col7\" >0.2450</td>\n",
              "    </tr>\n",
              "    <tr>\n",
              "      <th id=\"T_153fd_level0_row10\" class=\"row_heading level0 row10\" >ridge</th>\n",
              "      <td id=\"T_153fd_row10_col0\" class=\"data row10 col0\" >Ridge Regression</td>\n",
              "      <td id=\"T_153fd_row10_col1\" class=\"data row10 col1\" >0.0493</td>\n",
              "      <td id=\"T_153fd_row10_col2\" class=\"data row10 col2\" >0.0062</td>\n",
              "      <td id=\"T_153fd_row10_col3\" class=\"data row10 col3\" >0.0785</td>\n",
              "      <td id=\"T_153fd_row10_col4\" class=\"data row10 col4\" >0.1098</td>\n",
              "      <td id=\"T_153fd_row10_col5\" class=\"data row10 col5\" >0.0262</td>\n",
              "      <td id=\"T_153fd_row10_col6\" class=\"data row10 col6\" >0.0235</td>\n",
              "      <td id=\"T_153fd_row10_col7\" class=\"data row10 col7\" >0.1180</td>\n",
              "    </tr>\n",
              "    <tr>\n",
              "      <th id=\"T_153fd_level0_row11\" class=\"row_heading level0 row11\" >lr</th>\n",
              "      <td id=\"T_153fd_row11_col0\" class=\"data row11 col0\" >Linear Regression</td>\n",
              "      <td id=\"T_153fd_row11_col1\" class=\"data row11 col1\" >0.0493</td>\n",
              "      <td id=\"T_153fd_row11_col2\" class=\"data row11 col2\" >0.0062</td>\n",
              "      <td id=\"T_153fd_row11_col3\" class=\"data row11 col3\" >0.0785</td>\n",
              "      <td id=\"T_153fd_row11_col4\" class=\"data row11 col4\" >0.1098</td>\n",
              "      <td id=\"T_153fd_row11_col5\" class=\"data row11 col5\" >0.0262</td>\n",
              "      <td id=\"T_153fd_row11_col6\" class=\"data row11 col6\" >0.0235</td>\n",
              "      <td id=\"T_153fd_row11_col7\" class=\"data row11 col7\" >0.9170</td>\n",
              "    </tr>\n",
              "    <tr>\n",
              "      <th id=\"T_153fd_level0_row12\" class=\"row_heading level0 row12\" >omp</th>\n",
              "      <td id=\"T_153fd_row12_col0\" class=\"data row12 col0\" >Orthogonal Matching Pursuit</td>\n",
              "      <td id=\"T_153fd_row12_col1\" class=\"data row12 col1\" >0.0494</td>\n",
              "      <td id=\"T_153fd_row12_col2\" class=\"data row12 col2\" >0.0062</td>\n",
              "      <td id=\"T_153fd_row12_col3\" class=\"data row12 col3\" >0.0786</td>\n",
              "      <td id=\"T_153fd_row12_col4\" class=\"data row12 col4\" >0.1072</td>\n",
              "      <td id=\"T_153fd_row12_col5\" class=\"data row12 col5\" >0.0262</td>\n",
              "      <td id=\"T_153fd_row12_col6\" class=\"data row12 col6\" >0.0235</td>\n",
              "      <td id=\"T_153fd_row12_col7\" class=\"data row12 col7\" >0.1850</td>\n",
              "    </tr>\n",
              "    <tr>\n",
              "      <th id=\"T_153fd_level0_row13\" class=\"row_heading level0 row13\" >huber</th>\n",
              "      <td id=\"T_153fd_row13_col0\" class=\"data row13 col0\" >Huber Regressor</td>\n",
              "      <td id=\"T_153fd_row13_col1\" class=\"data row13 col1\" >0.0486</td>\n",
              "      <td id=\"T_153fd_row13_col2\" class=\"data row13 col2\" >0.0062</td>\n",
              "      <td id=\"T_153fd_row13_col3\" class=\"data row13 col3\" >0.0790</td>\n",
              "      <td id=\"T_153fd_row13_col4\" class=\"data row13 col4\" >0.0963</td>\n",
              "      <td id=\"T_153fd_row13_col5\" class=\"data row13 col5\" >0.0264</td>\n",
              "      <td id=\"T_153fd_row13_col6\" class=\"data row13 col6\" >0.0233</td>\n",
              "      <td id=\"T_153fd_row13_col7\" class=\"data row13 col7\" >6.4460</td>\n",
              "    </tr>\n",
              "    <tr>\n",
              "      <th id=\"T_153fd_level0_row14\" class=\"row_heading level0 row14\" >lasso</th>\n",
              "      <td id=\"T_153fd_row14_col0\" class=\"data row14 col0\" >Lasso Regression</td>\n",
              "      <td id=\"T_153fd_row14_col1\" class=\"data row14 col1\" >0.0536</td>\n",
              "      <td id=\"T_153fd_row14_col2\" class=\"data row14 col2\" >0.0069</td>\n",
              "      <td id=\"T_153fd_row14_col3\" class=\"data row14 col3\" >0.0832</td>\n",
              "      <td id=\"T_153fd_row14_col4\" class=\"data row14 col4\" >-0.0000</td>\n",
              "      <td id=\"T_153fd_row14_col5\" class=\"data row14 col5\" >0.0276</td>\n",
              "      <td id=\"T_153fd_row14_col6\" class=\"data row14 col6\" >0.0255</td>\n",
              "      <td id=\"T_153fd_row14_col7\" class=\"data row14 col7\" >0.1270</td>\n",
              "    </tr>\n",
              "    <tr>\n",
              "      <th id=\"T_153fd_level0_row15\" class=\"row_heading level0 row15\" >en</th>\n",
              "      <td id=\"T_153fd_row15_col0\" class=\"data row15 col0\" >Elastic Net</td>\n",
              "      <td id=\"T_153fd_row15_col1\" class=\"data row15 col1\" >0.0536</td>\n",
              "      <td id=\"T_153fd_row15_col2\" class=\"data row15 col2\" >0.0069</td>\n",
              "      <td id=\"T_153fd_row15_col3\" class=\"data row15 col3\" >0.0832</td>\n",
              "      <td id=\"T_153fd_row15_col4\" class=\"data row15 col4\" >-0.0000</td>\n",
              "      <td id=\"T_153fd_row15_col5\" class=\"data row15 col5\" >0.0276</td>\n",
              "      <td id=\"T_153fd_row15_col6\" class=\"data row15 col6\" >0.0255</td>\n",
              "      <td id=\"T_153fd_row15_col7\" class=\"data row15 col7\" >0.1240</td>\n",
              "    </tr>\n",
              "    <tr>\n",
              "      <th id=\"T_153fd_level0_row16\" class=\"row_heading level0 row16\" >llar</th>\n",
              "      <td id=\"T_153fd_row16_col0\" class=\"data row16 col0\" >Lasso Least Angle Regression</td>\n",
              "      <td id=\"T_153fd_row16_col1\" class=\"data row16 col1\" >0.0536</td>\n",
              "      <td id=\"T_153fd_row16_col2\" class=\"data row16 col2\" >0.0069</td>\n",
              "      <td id=\"T_153fd_row16_col3\" class=\"data row16 col3\" >0.0832</td>\n",
              "      <td id=\"T_153fd_row16_col4\" class=\"data row16 col4\" >-0.0000</td>\n",
              "      <td id=\"T_153fd_row16_col5\" class=\"data row16 col5\" >0.0276</td>\n",
              "      <td id=\"T_153fd_row16_col6\" class=\"data row16 col6\" >0.0255</td>\n",
              "      <td id=\"T_153fd_row16_col7\" class=\"data row16 col7\" >0.1840</td>\n",
              "    </tr>\n",
              "    <tr>\n",
              "      <th id=\"T_153fd_level0_row17\" class=\"row_heading level0 row17\" >dummy</th>\n",
              "      <td id=\"T_153fd_row17_col0\" class=\"data row17 col0\" >Dummy Regressor</td>\n",
              "      <td id=\"T_153fd_row17_col1\" class=\"data row17 col1\" >0.0536</td>\n",
              "      <td id=\"T_153fd_row17_col2\" class=\"data row17 col2\" >0.0069</td>\n",
              "      <td id=\"T_153fd_row17_col3\" class=\"data row17 col3\" >0.0832</td>\n",
              "      <td id=\"T_153fd_row17_col4\" class=\"data row17 col4\" >-0.0000</td>\n",
              "      <td id=\"T_153fd_row17_col5\" class=\"data row17 col5\" >0.0276</td>\n",
              "      <td id=\"T_153fd_row17_col6\" class=\"data row17 col6\" >0.0255</td>\n",
              "      <td id=\"T_153fd_row17_col7\" class=\"data row17 col7\" >0.0870</td>\n",
              "    </tr>\n",
              "    <tr>\n",
              "      <th id=\"T_153fd_level0_row18\" class=\"row_heading level0 row18\" >par</th>\n",
              "      <td id=\"T_153fd_row18_col0\" class=\"data row18 col0\" >Passive Aggressive Regressor</td>\n",
              "      <td id=\"T_153fd_row18_col1\" class=\"data row18 col1\" >0.0639</td>\n",
              "      <td id=\"T_153fd_row18_col2\" class=\"data row18 col2\" >0.0084</td>\n",
              "      <td id=\"T_153fd_row18_col3\" class=\"data row18 col3\" >0.0908</td>\n",
              "      <td id=\"T_153fd_row18_col4\" class=\"data row18 col4\" >-0.2122</td>\n",
              "      <td id=\"T_153fd_row18_col5\" class=\"data row18 col5\" >0.0299</td>\n",
              "      <td id=\"T_153fd_row18_col6\" class=\"data row18 col6\" >0.0301</td>\n",
              "      <td id=\"T_153fd_row18_col7\" class=\"data row18 col7\" >0.4410</td>\n",
              "    </tr>\n",
              "  </tbody>\n",
              "</table>\n"
            ]
          },
          "metadata": {}
        },
        {
          "output_type": "display_data",
          "data": {
            "text/plain": [
              "Processing:   0%|          | 0/81 [00:00<?, ?it/s]"
            ],
            "application/vnd.jupyter.widget-view+json": {
              "version_major": 2,
              "version_minor": 0,
              "model_id": "6709d14d9c564edfbacc698d505b0665"
            }
          },
          "metadata": {
            "application/vnd.jupyter.widget-view+json": {
              "colab": {
                "custom_widget_manager": {
                  "url": "https://ssl.gstatic.com/colaboratory-static/widgets/colab-cdn-widget-manager/b3e629b1971e1542/manager.min.js"
                }
              }
            }
          }
        },
        {
          "output_type": "display_data",
          "data": {
            "text/plain": [
              "<IPython.core.display.HTML object>"
            ],
            "text/html": []
          },
          "metadata": {}
        },
        {
          "output_type": "execute_result",
          "data": {
            "text/plain": [
              "LGBMRegressor(n_jobs=-1, random_state=8911)"
            ],
            "text/html": [
              "<style>#sk-container-id-1 {color: black;background-color: white;}#sk-container-id-1 pre{padding: 0;}#sk-container-id-1 div.sk-toggleable {background-color: white;}#sk-container-id-1 label.sk-toggleable__label {cursor: pointer;display: block;width: 100%;margin-bottom: 0;padding: 0.3em;box-sizing: border-box;text-align: center;}#sk-container-id-1 label.sk-toggleable__label-arrow:before {content: \"▸\";float: left;margin-right: 0.25em;color: #696969;}#sk-container-id-1 label.sk-toggleable__label-arrow:hover:before {color: black;}#sk-container-id-1 div.sk-estimator:hover label.sk-toggleable__label-arrow:before {color: black;}#sk-container-id-1 div.sk-toggleable__content {max-height: 0;max-width: 0;overflow: hidden;text-align: left;background-color: #f0f8ff;}#sk-container-id-1 div.sk-toggleable__content pre {margin: 0.2em;color: black;border-radius: 0.25em;background-color: #f0f8ff;}#sk-container-id-1 input.sk-toggleable__control:checked~div.sk-toggleable__content {max-height: 200px;max-width: 100%;overflow: auto;}#sk-container-id-1 input.sk-toggleable__control:checked~label.sk-toggleable__label-arrow:before {content: \"▾\";}#sk-container-id-1 div.sk-estimator input.sk-toggleable__control:checked~label.sk-toggleable__label {background-color: #d4ebff;}#sk-container-id-1 div.sk-label input.sk-toggleable__control:checked~label.sk-toggleable__label {background-color: #d4ebff;}#sk-container-id-1 input.sk-hidden--visually {border: 0;clip: rect(1px 1px 1px 1px);clip: rect(1px, 1px, 1px, 1px);height: 1px;margin: -1px;overflow: hidden;padding: 0;position: absolute;width: 1px;}#sk-container-id-1 div.sk-estimator {font-family: monospace;background-color: #f0f8ff;border: 1px dotted black;border-radius: 0.25em;box-sizing: border-box;margin-bottom: 0.5em;}#sk-container-id-1 div.sk-estimator:hover {background-color: #d4ebff;}#sk-container-id-1 div.sk-parallel-item::after {content: \"\";width: 100%;border-bottom: 1px solid gray;flex-grow: 1;}#sk-container-id-1 div.sk-label:hover label.sk-toggleable__label {background-color: #d4ebff;}#sk-container-id-1 div.sk-serial::before {content: \"\";position: absolute;border-left: 1px solid gray;box-sizing: border-box;top: 0;bottom: 0;left: 50%;z-index: 0;}#sk-container-id-1 div.sk-serial {display: flex;flex-direction: column;align-items: center;background-color: white;padding-right: 0.2em;padding-left: 0.2em;position: relative;}#sk-container-id-1 div.sk-item {position: relative;z-index: 1;}#sk-container-id-1 div.sk-parallel {display: flex;align-items: stretch;justify-content: center;background-color: white;position: relative;}#sk-container-id-1 div.sk-item::before, #sk-container-id-1 div.sk-parallel-item::before {content: \"\";position: absolute;border-left: 1px solid gray;box-sizing: border-box;top: 0;bottom: 0;left: 50%;z-index: -1;}#sk-container-id-1 div.sk-parallel-item {display: flex;flex-direction: column;z-index: 1;position: relative;background-color: white;}#sk-container-id-1 div.sk-parallel-item:first-child::after {align-self: flex-end;width: 50%;}#sk-container-id-1 div.sk-parallel-item:last-child::after {align-self: flex-start;width: 50%;}#sk-container-id-1 div.sk-parallel-item:only-child::after {width: 0;}#sk-container-id-1 div.sk-dashed-wrapped {border: 1px dashed gray;margin: 0 0.4em 0.5em 0.4em;box-sizing: border-box;padding-bottom: 0.4em;background-color: white;}#sk-container-id-1 div.sk-label label {font-family: monospace;font-weight: bold;display: inline-block;line-height: 1.2em;}#sk-container-id-1 div.sk-label-container {text-align: center;}#sk-container-id-1 div.sk-container {/* jupyter's `normalize.less` sets `[hidden] { display: none; }` but bootstrap.min.css set `[hidden] { display: none !important; }` so we also need the `!important` here to be able to override the default hidden behavior on the sphinx rendered scikit-learn.org. See: https://github.com/scikit-learn/scikit-learn/issues/21755 */display: inline-block !important;position: relative;}#sk-container-id-1 div.sk-text-repr-fallback {display: none;}</style><div id=\"sk-container-id-1\" class=\"sk-top-container\"><div class=\"sk-text-repr-fallback\"><pre>LGBMRegressor(n_jobs=-1, random_state=8911)</pre><b>In a Jupyter environment, please rerun this cell to show the HTML representation or trust the notebook. <br />On GitHub, the HTML representation is unable to render, please try loading this page with nbviewer.org.</b></div><div class=\"sk-container\" hidden><div class=\"sk-item\"><div class=\"sk-estimator sk-toggleable\"><input class=\"sk-toggleable__control sk-hidden--visually\" id=\"sk-estimator-id-1\" type=\"checkbox\" checked><label for=\"sk-estimator-id-1\" class=\"sk-toggleable__label sk-toggleable__label-arrow\">LGBMRegressor</label><div class=\"sk-toggleable__content\"><pre>LGBMRegressor(n_jobs=-1, random_state=8911)</pre></div></div></div></div></div>"
            ]
          },
          "metadata": {},
          "execution_count": 46
        }
      ]
    },
    {
      "cell_type": "code",
      "source": [],
      "metadata": {
        "id": "fN-okDIyxRAw"
      },
      "execution_count": null,
      "outputs": []
    },
    {
      "cell_type": "code",
      "source": [
        "from lightgbm import LGBMRegressor\n",
        "from xgboost import XGBRegressor\n",
        "from sklearn.ensemble import GradientBoostingRegressor, AdaBoostRegressor\n",
        "from sklearn.model_selection import KFold, cross_val_score"
      ],
      "metadata": {
        "id": "Zu9dXBrDxRbP"
      },
      "execution_count": null,
      "outputs": []
    },
    {
      "cell_type": "code",
      "source": [
        "baseline = LGBMRegressor(verbose = 0)\n",
        "baseline.fit(X_train, Y_train)"
      ],
      "metadata": {
        "colab": {
          "base_uri": "https://localhost:8080/",
          "height": 127
        },
        "id": "gcXiQjbFxR0b",
        "outputId": "d9602983-31fb-49fe-c81a-a2e655365e6c"
      },
      "execution_count": null,
      "outputs": [
        {
          "output_type": "stream",
          "name": "stdout",
          "text": [
            "[LightGBM] [Warning] Auto-choosing row-wise multi-threading, the overhead of testing was 0.014602 seconds.\n",
            "You can set `force_row_wise=true` to remove the overhead.\n",
            "And if memory is not enough, you can set `force_col_wise=true`.\n"
          ]
        },
        {
          "output_type": "execute_result",
          "data": {
            "text/plain": [
              "LGBMRegressor(verbose=0)"
            ],
            "text/html": [
              "<style>#sk-container-id-1 {color: black;background-color: white;}#sk-container-id-1 pre{padding: 0;}#sk-container-id-1 div.sk-toggleable {background-color: white;}#sk-container-id-1 label.sk-toggleable__label {cursor: pointer;display: block;width: 100%;margin-bottom: 0;padding: 0.3em;box-sizing: border-box;text-align: center;}#sk-container-id-1 label.sk-toggleable__label-arrow:before {content: \"▸\";float: left;margin-right: 0.25em;color: #696969;}#sk-container-id-1 label.sk-toggleable__label-arrow:hover:before {color: black;}#sk-container-id-1 div.sk-estimator:hover label.sk-toggleable__label-arrow:before {color: black;}#sk-container-id-1 div.sk-toggleable__content {max-height: 0;max-width: 0;overflow: hidden;text-align: left;background-color: #f0f8ff;}#sk-container-id-1 div.sk-toggleable__content pre {margin: 0.2em;color: black;border-radius: 0.25em;background-color: #f0f8ff;}#sk-container-id-1 input.sk-toggleable__control:checked~div.sk-toggleable__content {max-height: 200px;max-width: 100%;overflow: auto;}#sk-container-id-1 input.sk-toggleable__control:checked~label.sk-toggleable__label-arrow:before {content: \"▾\";}#sk-container-id-1 div.sk-estimator input.sk-toggleable__control:checked~label.sk-toggleable__label {background-color: #d4ebff;}#sk-container-id-1 div.sk-label input.sk-toggleable__control:checked~label.sk-toggleable__label {background-color: #d4ebff;}#sk-container-id-1 input.sk-hidden--visually {border: 0;clip: rect(1px 1px 1px 1px);clip: rect(1px, 1px, 1px, 1px);height: 1px;margin: -1px;overflow: hidden;padding: 0;position: absolute;width: 1px;}#sk-container-id-1 div.sk-estimator {font-family: monospace;background-color: #f0f8ff;border: 1px dotted black;border-radius: 0.25em;box-sizing: border-box;margin-bottom: 0.5em;}#sk-container-id-1 div.sk-estimator:hover {background-color: #d4ebff;}#sk-container-id-1 div.sk-parallel-item::after {content: \"\";width: 100%;border-bottom: 1px solid gray;flex-grow: 1;}#sk-container-id-1 div.sk-label:hover label.sk-toggleable__label {background-color: #d4ebff;}#sk-container-id-1 div.sk-serial::before {content: \"\";position: absolute;border-left: 1px solid gray;box-sizing: border-box;top: 0;bottom: 0;left: 50%;z-index: 0;}#sk-container-id-1 div.sk-serial {display: flex;flex-direction: column;align-items: center;background-color: white;padding-right: 0.2em;padding-left: 0.2em;position: relative;}#sk-container-id-1 div.sk-item {position: relative;z-index: 1;}#sk-container-id-1 div.sk-parallel {display: flex;align-items: stretch;justify-content: center;background-color: white;position: relative;}#sk-container-id-1 div.sk-item::before, #sk-container-id-1 div.sk-parallel-item::before {content: \"\";position: absolute;border-left: 1px solid gray;box-sizing: border-box;top: 0;bottom: 0;left: 50%;z-index: -1;}#sk-container-id-1 div.sk-parallel-item {display: flex;flex-direction: column;z-index: 1;position: relative;background-color: white;}#sk-container-id-1 div.sk-parallel-item:first-child::after {align-self: flex-end;width: 50%;}#sk-container-id-1 div.sk-parallel-item:last-child::after {align-self: flex-start;width: 50%;}#sk-container-id-1 div.sk-parallel-item:only-child::after {width: 0;}#sk-container-id-1 div.sk-dashed-wrapped {border: 1px dashed gray;margin: 0 0.4em 0.5em 0.4em;box-sizing: border-box;padding-bottom: 0.4em;background-color: white;}#sk-container-id-1 div.sk-label label {font-family: monospace;font-weight: bold;display: inline-block;line-height: 1.2em;}#sk-container-id-1 div.sk-label-container {text-align: center;}#sk-container-id-1 div.sk-container {/* jupyter's `normalize.less` sets `[hidden] { display: none; }` but bootstrap.min.css set `[hidden] { display: none !important; }` so we also need the `!important` here to be able to override the default hidden behavior on the sphinx rendered scikit-learn.org. See: https://github.com/scikit-learn/scikit-learn/issues/21755 */display: inline-block !important;position: relative;}#sk-container-id-1 div.sk-text-repr-fallback {display: none;}</style><div id=\"sk-container-id-1\" class=\"sk-top-container\"><div class=\"sk-text-repr-fallback\"><pre>LGBMRegressor(verbose=0)</pre><b>In a Jupyter environment, please rerun this cell to show the HTML representation or trust the notebook. <br />On GitHub, the HTML representation is unable to render, please try loading this page with nbviewer.org.</b></div><div class=\"sk-container\" hidden><div class=\"sk-item\"><div class=\"sk-estimator sk-toggleable\"><input class=\"sk-toggleable__control sk-hidden--visually\" id=\"sk-estimator-id-1\" type=\"checkbox\" checked><label for=\"sk-estimator-id-1\" class=\"sk-toggleable__label sk-toggleable__label-arrow\">LGBMRegressor</label><div class=\"sk-toggleable__content\"><pre>LGBMRegressor(verbose=0)</pre></div></div></div></div></div>"
            ]
          },
          "metadata": {},
          "execution_count": 26
        }
      ]
    },
    {
      "cell_type": "code",
      "source": [
        "kf = KFold(n_splits=10)\n",
        "results = cross_val_score(baseline, X_train, Y_train, scoring='neg_mean_squared_error', cv= kf)"
      ],
      "metadata": {
        "colab": {
          "base_uri": "https://localhost:8080/"
        },
        "id": "dNTJRdbyxSOe",
        "outputId": "da8cb3c5-8580-4885-a962-d22b4c69cdfc"
      },
      "execution_count": null,
      "outputs": [
        {
          "output_type": "stream",
          "name": "stdout",
          "text": [
            "[LightGBM] [Warning] Auto-choosing row-wise multi-threading, the overhead of testing was 0.012281 seconds.\n",
            "You can set `force_row_wise=true` to remove the overhead.\n",
            "And if memory is not enough, you can set `force_col_wise=true`.\n",
            "[LightGBM] [Warning] Auto-choosing row-wise multi-threading, the overhead of testing was 0.011888 seconds.\n",
            "You can set `force_row_wise=true` to remove the overhead.\n",
            "And if memory is not enough, you can set `force_col_wise=true`.\n",
            "[LightGBM] [Warning] Auto-choosing row-wise multi-threading, the overhead of testing was 0.012639 seconds.\n",
            "You can set `force_row_wise=true` to remove the overhead.\n",
            "And if memory is not enough, you can set `force_col_wise=true`.\n",
            "[LightGBM] [Warning] Auto-choosing row-wise multi-threading, the overhead of testing was 0.020779 seconds.\n",
            "You can set `force_row_wise=true` to remove the overhead.\n",
            "And if memory is not enough, you can set `force_col_wise=true`.\n",
            "[LightGBM] [Warning] Auto-choosing row-wise multi-threading, the overhead of testing was 0.011967 seconds.\n",
            "You can set `force_row_wise=true` to remove the overhead.\n",
            "And if memory is not enough, you can set `force_col_wise=true`.\n",
            "[LightGBM] [Warning] Auto-choosing row-wise multi-threading, the overhead of testing was 0.012814 seconds.\n",
            "You can set `force_row_wise=true` to remove the overhead.\n",
            "And if memory is not enough, you can set `force_col_wise=true`.\n",
            "[LightGBM] [Warning] Auto-choosing row-wise multi-threading, the overhead of testing was 0.011909 seconds.\n",
            "You can set `force_row_wise=true` to remove the overhead.\n",
            "And if memory is not enough, you can set `force_col_wise=true`.\n",
            "[LightGBM] [Warning] Auto-choosing row-wise multi-threading, the overhead of testing was 0.022800 seconds.\n",
            "You can set `force_row_wise=true` to remove the overhead.\n",
            "And if memory is not enough, you can set `force_col_wise=true`.\n",
            "[LightGBM] [Warning] Auto-choosing row-wise multi-threading, the overhead of testing was 0.011841 seconds.\n",
            "You can set `force_row_wise=true` to remove the overhead.\n",
            "And if memory is not enough, you can set `force_col_wise=true`.\n",
            "[LightGBM] [Warning] Auto-choosing row-wise multi-threading, the overhead of testing was 0.012188 seconds.\n",
            "You can set `force_row_wise=true` to remove the overhead.\n",
            "And if memory is not enough, you can set `force_col_wise=true`.\n"
          ]
        }
      ]
    },
    {
      "cell_type": "code",
      "source": [
        "plt.figure(figsize=(16,10))\n",
        "sns.displot(-results, kde= True)"
      ],
      "metadata": {
        "id": "B1Ymrn7cWAv7",
        "colab": {
          "base_uri": "https://localhost:8080/",
          "height": 541
        },
        "outputId": "073fc473-40b3-4fcb-c5a3-9ca00cbc5106"
      },
      "execution_count": null,
      "outputs": [
        {
          "output_type": "execute_result",
          "data": {
            "text/plain": [
              "<seaborn.axisgrid.FacetGrid at 0x7f0b515bb760>"
            ]
          },
          "metadata": {},
          "execution_count": 28
        },
        {
          "output_type": "display_data",
          "data": {
            "text/plain": [
              "<Figure size 1600x1000 with 0 Axes>"
            ]
          },
          "metadata": {}
        },
        {
          "output_type": "display_data",
          "data": {
            "text/plain": [
              "<Figure size 500x500 with 1 Axes>"
            ],
            "image/png": "[encoded data removed]"
          },
          "metadata": {}
        }
      ]
    },
    {
      "cell_type": "code",
      "source": [
        "np.exp(np.sqrt(np.mean(-results)))"
      ],
      "metadata": {
        "colab": {
          "base_uri": "https://localhost:8080/"
        },
        "id": "JKVBOJMrCA54",
        "outputId": "d3895936-e040-473d-c6d4-db50e8ce7ebe"
      },
      "execution_count": null,
      "outputs": [
        {
          "output_type": "execute_result",
          "data": {
            "text/plain": [
              "1.0391127343802384"
            ]
          },
          "metadata": {},
          "execution_count": 29
        }
      ]
    },
    {
      "cell_type": "code",
      "source": [
        "pred = np.exp(np.exp(baseline.predict(x_test)))"
      ],
      "metadata": {
        "id": "FGsddH-SCIAW"
      },
      "execution_count": null,
      "outputs": []
    },
    {
      "cell_type": "code",
      "source": [
        "np.exp(y_test)"
      ],
      "metadata": {
        "colab": {
          "base_uri": "https://localhost:8080/"
        },
        "id": "1quSaS5gHxxL",
        "outputId": "ca30af6d-8c4c-4a29-fb50-8447f163516e"
      },
      "execution_count": null,
      "outputs": [
        {
          "output_type": "execute_result",
          "data": {
            "text/plain": [
              "91563     8.978005\n",
              "396300    8.988196\n",
              "227261    8.847877\n",
              "26820     8.759606\n",
              "352831    9.080915\n",
              "            ...   \n",
              "75296     6.613384\n",
              "461117    8.969923\n",
              "40562     9.035201\n",
              "46524     8.418036\n",
              "232792    9.341632\n",
              "Name: Purchase, Length: 258611, dtype: float64"
            ]
          },
          "metadata": {},
          "execution_count": 31
        }
      ]
    },
    {
      "cell_type": "code",
      "source": [
        "pred\n"
      ],
      "metadata": {
        "colab": {
          "base_uri": "https://localhost:8080/"
        },
        "id": "HBRbCoWLIEpv",
        "outputId": "448e1ecd-25c3-4b7f-c34c-213ea611cf4c"
      },
      "execution_count": null,
      "outputs": [
        {
          "output_type": "execute_result",
          "data": {
            "text/plain": [
              "array([ 7517.98422032,  7164.66726099,  5746.43490813, ...,\n",
              "        8171.58401358, 12409.34781096, 13336.11573378])"
            ]
          },
          "metadata": {},
          "execution_count": 32
        }
      ]
    },
    {
      "cell_type": "code",
      "source": [
        "ense = {\n",
        "    'lightgbm':LGBMRegressor(verbose = 0),\n",
        "    'xgboost':XGBRegressor(),\n",
        "    'gbr':GradientBoostingRegressor(),\n",
        "    'ada':AdaBoostRegressor()\n",
        "}"
      ],
      "metadata": {
        "id": "OHglR0p3LWaJ"
      },
      "execution_count": null,
      "outputs": []
    },
    {
      "cell_type": "code",
      "source": [
        "for name, model in ense.items():\n",
        "  model.fit(X_train, Y_train)\n",
        "  print(name + ' trained.')"
      ],
      "metadata": {
        "colab": {
          "base_uri": "https://localhost:8080/"
        },
        "id": "DefxHV-RNFV5",
        "outputId": "c1fad022-7272-47d4-d1c3-3a30f41c3233"
      },
      "execution_count": null,
      "outputs": [
        {
          "output_type": "stream",
          "name": "stdout",
          "text": [
            "[LightGBM] [Warning] Auto-choosing row-wise multi-threading, the overhead of testing was 0.023782 seconds.\n",
            "You can set `force_row_wise=true` to remove the overhead.\n",
            "And if memory is not enough, you can set `force_col_wise=true`.\n",
            "lightgbm trained.\n",
            "xgboost trained.\n",
            "gbr trained.\n",
            "ada trained.\n"
          ]
        }
      ]
    },
    {
      "cell_type": "code",
      "source": [
        "resu = {}\n",
        "for name, model in ense.items():\n",
        "  result = np.exp(np.sqrt(-cross_val_score(model, X_train, Y_train, scoring='neg_mean_squared_error', cv= kf)))\n",
        "  resu[name] = result"
      ],
      "metadata": {
        "colab": {
          "base_uri": "https://localhost:8080/"
        },
        "id": "NYZ_e0jANSvv",
        "outputId": "073161ed-c52f-4ebe-8700-4866fb77f8e6"
      },
      "execution_count": null,
      "outputs": [
        {
          "output_type": "stream",
          "name": "stdout",
          "text": [
            "[LightGBM] [Warning] Auto-choosing row-wise multi-threading, the overhead of testing was 0.021572 seconds.\n",
            "You can set `force_row_wise=true` to remove the overhead.\n",
            "And if memory is not enough, you can set `force_col_wise=true`.\n",
            "[LightGBM] [Warning] Auto-choosing row-wise multi-threading, the overhead of testing was 0.012008 seconds.\n",
            "You can set `force_row_wise=true` to remove the overhead.\n",
            "And if memory is not enough, you can set `force_col_wise=true`.\n",
            "[LightGBM] [Warning] Auto-choosing row-wise multi-threading, the overhead of testing was 0.012367 seconds.\n",
            "You can set `force_row_wise=true` to remove the overhead.\n",
            "And if memory is not enough, you can set `force_col_wise=true`.\n",
            "[LightGBM] [Warning] Auto-choosing row-wise multi-threading, the overhead of testing was 0.012274 seconds.\n",
            "You can set `force_row_wise=true` to remove the overhead.\n",
            "And if memory is not enough, you can set `force_col_wise=true`.\n",
            "[LightGBM] [Warning] Auto-choosing row-wise multi-threading, the overhead of testing was 0.013397 seconds.\n",
            "You can set `force_row_wise=true` to remove the overhead.\n",
            "And if memory is not enough, you can set `force_col_wise=true`.\n",
            "[LightGBM] [Warning] Auto-choosing row-wise multi-threading, the overhead of testing was 0.012276 seconds.\n",
            "You can set `force_row_wise=true` to remove the overhead.\n",
            "And if memory is not enough, you can set `force_col_wise=true`.\n",
            "[LightGBM] [Warning] Auto-choosing row-wise multi-threading, the overhead of testing was 0.020849 seconds.\n",
            "You can set `force_row_wise=true` to remove the overhead.\n",
            "And if memory is not enough, you can set `force_col_wise=true`.\n",
            "[LightGBM] [Warning] Auto-choosing row-wise multi-threading, the overhead of testing was 0.012100 seconds.\n",
            "You can set `force_row_wise=true` to remove the overhead.\n",
            "And if memory is not enough, you can set `force_col_wise=true`.\n",
            "[LightGBM] [Warning] Auto-choosing row-wise multi-threading, the overhead of testing was 0.012422 seconds.\n",
            "You can set `force_row_wise=true` to remove the overhead.\n",
            "And if memory is not enough, you can set `force_col_wise=true`.\n",
            "[LightGBM] [Warning] Auto-choosing row-wise multi-threading, the overhead of testing was 0.012756 seconds.\n",
            "You can set `force_row_wise=true` to remove the overhead.\n",
            "And if memory is not enough, you can set `force_col_wise=true`.\n"
          ]
        }
      ]
    },
    {
      "cell_type": "code",
      "source": [
        "for name, res in resu.items():\n",
        "  print('___________________\\n'+name)\n",
        "  print(np.mean(res))\n",
        "  print(np.std(res))"
      ],
      "metadata": {
        "id": "pvBZ11GuN4p5",
        "colab": {
          "base_uri": "https://localhost:8080/"
        },
        "outputId": "9c082437-c3e5-4662-ba3f-24522c2b9b85"
      },
      "execution_count": null,
      "outputs": [
        {
          "output_type": "stream",
          "name": "stdout",
          "text": [
            "___________________\n",
            "lightgbm\n",
            "1.0391122917861373\n",
            "0.00019156833792459746\n",
            "___________________\n",
            "xgboost\n",
            "1.038737831677195\n",
            "0.00020602573968690985\n",
            "___________________\n",
            "gbr\n",
            "1.0399217271731755\n",
            "0.00019155961254351534\n",
            "___________________\n",
            "ada\n",
            "1.0557671691837904\n",
            "0.0005967588625876903\n"
          ]
        }
      ]
    },
    {
      "cell_type": "code",
      "source": [
        "final_pred = (\n",
        "    0.25 *np.exp(np.exp(ense['lightgbm'].predict(x_test)))+\n",
        "    0.25 *np.exp(np.exp(ense['xgboost'].predict(x_test)))+\n",
        "    0.25 *np.exp(np.exp(ense['gbr'].predict(x_test)))+\n",
        "    0.25 *np.exp(np.exp(ense['ada'].predict(x_test)))\n",
        ")\n",
        "\n",
        "final_pred"
      ],
      "metadata": {
        "colab": {
          "base_uri": "https://localhost:8080/"
        },
        "id": "kLxtsdgR-tDw",
        "outputId": "2327959b-2c55-4a62-bd2f-a63a819f6b42"
      },
      "execution_count": null,
      "outputs": [
        {
          "output_type": "execute_result",
          "data": {
            "text/plain": [
              "array([ 7241.83274612,  7022.89339509,  5610.5660281 , ...,\n",
              "        7681.48331833, 12044.83313889, 12798.5696243 ])"
            ]
          },
          "metadata": {},
          "execution_count": 49
        }
      ]
    },
    {
      "cell_type": "code",
      "source": [
        "np.exp(np.exp(ense['lightgbm'].predict(x_test)))"
      ],
      "metadata": {
        "colab": {
          "base_uri": "https://localhost:8080/"
        },
        "id": "-phjqNq9A0Ci",
        "outputId": "b7d606e3-3bc6-4488-b0c6-ddc6777be6bf"
      },
      "execution_count": null,
      "outputs": [
        {
          "output_type": "execute_result",
          "data": {
            "text/plain": [
              "array([ 7517.98422032,  7164.66726099,  5746.43490813, ...,\n",
              "        8171.58401358, 12409.34781096, 13336.11573378])"
            ]
          },
          "metadata": {},
          "execution_count": 47
        }
      ]
    }
  ],
  "metadata": {
    "colab": {
      "provenance": [],
      "gpuType": "T4"
    },
    "kernelspec": {
      "display_name": "Python 3",
      "name": "python3"
    },
    "language_info": {
      "name": "python"
    },
    "accelerator": "GPU",
    "widgets": {
      "application/vnd.jupyter.widget-state+json": {
        "6709d14d9c564edfbacc698d505b0665": {
          "model_module": "@jupyter-widgets/controls",
          "model_name": "HBoxModel",
          "model_module_version": "1.5.0",
          "state": {
            "_dom_classes": [],
            "_model_module": "@jupyter-widgets/controls",
            "_model_module_version": "1.5.0",
            "_model_name": "HBoxModel",
            "_view_count": null,
            "_view_module": "@jupyter-widgets/controls",
            "_view_module_version": "1.5.0",
            "_view_name": "HBoxView",
            "box_style": "",
            "children": [
              "IPY_MODEL_5e0ed5de7cf8409fa22b4bdda5ed5a46",
              "IPY_MODEL_353e1ee1530945b4846da33ca577c3ab",
              "IPY_MODEL_df4cf2433ff149b4af2e48280aaf1f65"
            ],
            "layout": "IPY_MODEL_12b59ba5f1c941008740020ae74509f2"
          }
        },
        "5e0ed5de7cf8409fa22b4bdda5ed5a46": {
          "model_module": "@jupyter-widgets/controls",
          "model_name": "HTMLModel",
          "model_module_version": "1.5.0",
          "state": {
            "_dom_classes": [],
            "_model_module": "@jupyter-widgets/controls",
            "_model_module_version": "1.5.0",
            "_model_name": "HTMLModel",
            "_view_count": null,
            "_view_module": "@jupyter-widgets/controls",
            "_view_module_version": "1.5.0",
            "_view_name": "HTMLView",
            "description": "",
            "description_tooltip": null,
            "layout": "IPY_MODEL_d50b1d7d6a244401bfb02f0b3068b1e9",
            "placeholder": "​",
            "style": "IPY_MODEL_d5c8b4f56035451ea7e09af58503a17b",
            "value": "Processing: 100%"
          }
        },
        "353e1ee1530945b4846da33ca577c3ab": {
          "model_module": "@jupyter-widgets/controls",
          "model_name": "FloatProgressModel",
          "model_module_version": "1.5.0",
          "state": {
            "_dom_classes": [],
            "_model_module": "@jupyter-widgets/controls",
            "_model_module_version": "1.5.0",
            "_model_name": "FloatProgressModel",
            "_view_count": null,
            "_view_module": "@jupyter-widgets/controls",
            "_view_module_version": "1.5.0",
            "_view_name": "ProgressView",
            "bar_style": "",
            "description": "",
            "description_tooltip": null,
            "layout": "IPY_MODEL_c7407535eb304372a8c37e7cbb0e4714",
            "max": 81,
            "min": 0,
            "orientation": "horizontal",
            "style": "IPY_MODEL_814d63f10a7346e8a11b09107d956632",
            "value": 81
          }
        },
        "df4cf2433ff149b4af2e48280aaf1f65": {
          "model_module": "@jupyter-widgets/controls",
          "model_name": "HTMLModel",
          "model_module_version": "1.5.0",
          "state": {
            "_dom_classes": [],
            "_model_module": "@jupyter-widgets/controls",
            "_model_module_version": "1.5.0",
            "_model_name": "HTMLModel",
            "_view_count": null,
            "_view_module": "@jupyter-widgets/controls",
            "_view_module_version": "1.5.0",
            "_view_name": "HTMLView",
            "description": "",
            "description_tooltip": null,
            "layout": "IPY_MODEL_68cd3c5cd67f4364816067d7b0d126ad",
            "placeholder": "​",
            "style": "IPY_MODEL_d4f2ae1a43684767b8982400dac59485",
            "value": " 81/81 [48:00&lt;00:00, 14.87s/it]"
          }
        },
        "12b59ba5f1c941008740020ae74509f2": {
          "model_module": "@jupyter-widgets/base",
          "model_name": "LayoutModel",
          "model_module_version": "1.2.0",
          "state": {
            "_model_module": "@jupyter-widgets/base",
            "_model_module_version": "1.2.0",
            "_model_name": "LayoutModel",
            "_view_count": null,
            "_view_module": "@jupyter-widgets/base",
            "_view_module_version": "1.2.0",
            "_view_name": "LayoutView",
            "align_content": null,
            "align_items": null,
            "align_self": null,
            "border": null,
            "bottom": null,
            "display": null,
            "flex": null,
            "flex_flow": null,
            "grid_area": null,
            "grid_auto_columns": null,
            "grid_auto_flow": null,
            "grid_auto_rows": null,
            "grid_column": null,
            "grid_gap": null,
            "grid_row": null,
            "grid_template_areas": null,
            "grid_template_columns": null,
            "grid_template_rows": null,
            "height": null,
            "justify_content": null,
            "justify_items": null,
            "left": null,
            "margin": null,
            "max_height": null,
            "max_width": null,
            "min_height": null,
            "min_width": null,
            "object_fit": null,
            "object_position": null,
            "order": null,
            "overflow": null,
            "overflow_x": null,
            "overflow_y": null,
            "padding": null,
            "right": null,
            "top": null,
            "visibility": "hidden",
            "width": null
          }
        },
        "d50b1d7d6a244401bfb02f0b3068b1e9": {
          "model_module": "@jupyter-widgets/base",
          "model_name": "LayoutModel",
          "model_module_version": "1.2.0",
          "state": {
            "_model_module": "@jupyter-widgets/base",
            "_model_module_version": "1.2.0",
            "_model_name": "LayoutModel",
            "_view_count": null,
            "_view_module": "@jupyter-widgets/base",
            "_view_module_version": "1.2.0",
            "_view_name": "LayoutView",
            "align_content": null,
            "align_items": null,
            "align_self": null,
            "border": null,
            "bottom": null,
            "display": null,
            "flex": null,
            "flex_flow": null,
            "grid_area": null,
            "grid_auto_columns": null,
            "grid_auto_flow": null,
            "grid_auto_rows": null,
            "grid_column": null,
            "grid_gap": null,
            "grid_row": null,
            "grid_template_areas": null,
            "grid_template_columns": null,
            "grid_template_rows": null,
            "height": null,
            "justify_content": null,
            "justify_items": null,
            "left": null,
            "margin": null,
            "max_height": null,
            "max_width": null,
            "min_height": null,
            "min_width": null,
            "object_fit": null,
            "object_position": null,
            "order": null,
            "overflow": null,
            "overflow_x": null,
            "overflow_y": null,
            "padding": null,
            "right": null,
            "top": null,
            "visibility": null,
            "width": null
          }
        },
        "d5c8b4f56035451ea7e09af58503a17b": {
          "model_module": "@jupyter-widgets/controls",
          "model_name": "DescriptionStyleModel",
          "model_module_version": "1.5.0",
          "state": {
            "_model_module": "@jupyter-widgets/controls",
            "_model_module_version": "1.5.0",
            "_model_name": "DescriptionStyleModel",
            "_view_count": null,
            "_view_module": "@jupyter-widgets/base",
            "_view_module_version": "1.2.0",
            "_view_name": "StyleView",
            "description_width": ""
          }
        },
        "c7407535eb304372a8c37e7cbb0e4714": {
          "model_module": "@jupyter-widgets/base",
          "model_name": "LayoutModel",
          "model_module_version": "1.2.0",
          "state": {
            "_model_module": "@jupyter-widgets/base",
            "_model_module_version": "1.2.0",
            "_model_name": "LayoutModel",
            "_view_count": null,
            "_view_module": "@jupyter-widgets/base",
            "_view_module_version": "1.2.0",
            "_view_name": "LayoutView",
            "align_content": null,
            "align_items": null,
            "align_self": null,
            "border": null,
            "bottom": null,
            "display": null,
            "flex": null,
            "flex_flow": null,
            "grid_area": null,
            "grid_auto_columns": null,
            "grid_auto_flow": null,
            "grid_auto_rows": null,
            "grid_column": null,
            "grid_gap": null,
            "grid_row": null,
            "grid_template_areas": null,
            "grid_template_columns": null,
            "grid_template_rows": null,
            "height": null,
            "justify_content": null,
            "justify_items": null,
            "left": null,
            "margin": null,
            "max_height": null,
            "max_width": null,
            "min_height": null,
            "min_width": null,
            "object_fit": null,
            "object_position": null,
            "order": null,
            "overflow": null,
            "overflow_x": null,
            "overflow_y": null,
            "padding": null,
            "right": null,
            "top": null,
            "visibility": null,
            "width": null
          }
        },
        "814d63f10a7346e8a11b09107d956632": {
          "model_module": "@jupyter-widgets/controls",
          "model_name": "ProgressStyleModel",
          "model_module_version": "1.5.0",
          "state": {
            "_model_module": "@jupyter-widgets/controls",
            "_model_module_version": "1.5.0",
            "_model_name": "ProgressStyleModel",
            "_view_count": null,
            "_view_module": "@jupyter-widgets/base",
            "_view_module_version": "1.2.0",
            "_view_name": "StyleView",
            "bar_color": null,
            "description_width": ""
          }
        },
        "68cd3c5cd67f4364816067d7b0d126ad": {
          "model_module": "@jupyter-widgets/base",
          "model_name": "LayoutModel",
          "model_module_version": "1.2.0",
          "state": {
            "_model_module": "@jupyter-widgets/base",
            "_model_module_version": "1.2.0",
            "_model_name": "LayoutModel",
            "_view_count": null,
            "_view_module": "@jupyter-widgets/base",
            "_view_module_version": "1.2.0",
            "_view_name": "LayoutView",
            "align_content": null,
            "align_items": null,
            "align_self": null,
            "border": null,
            "bottom": null,
            "display": null,
            "flex": null,
            "flex_flow": null,
            "grid_area": null,
            "grid_auto_columns": null,
            "grid_auto_flow": null,
            "grid_auto_rows": null,
            "grid_column": null,
            "grid_gap": null,
            "grid_row": null,
            "grid_template_areas": null,
            "grid_template_columns": null,
            "grid_template_rows": null,
            "height": null,
            "justify_content": null,
            "justify_items": null,
            "left": null,
            "margin": null,
            "max_height": null,
            "max_width": null,
            "min_height": null,
            "min_width": null,
            "object_fit": null,
            "object_position": null,
            "order": null,
            "overflow": null,
            "overflow_x": null,
            "overflow_y": null,
            "padding": null,
            "right": null,
            "top": null,
            "visibility": null,
            "width": null
          }
        },
        "d4f2ae1a43684767b8982400dac59485": {
          "model_module": "@jupyter-widgets/controls",
          "model_name": "DescriptionStyleModel",
          "model_module_version": "1.5.0",
          "state": {
            "_model_module": "@jupyter-widgets/controls",
            "_model_module_version": "1.5.0",
            "_model_name": "DescriptionStyleModel",
            "_view_count": null,
            "_view_module": "@jupyter-widgets/base",
            "_view_module_version": "1.2.0",
            "_view_name": "StyleView",
            "description_width": ""
          }
        }
      }
    }
  },
  "nbformat": 4,
  "nbformat_minor": 0
}